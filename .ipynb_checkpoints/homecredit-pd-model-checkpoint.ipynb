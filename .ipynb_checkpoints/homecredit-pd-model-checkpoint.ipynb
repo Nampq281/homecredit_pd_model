{
 "cells": [
  {
   "cell_type": "markdown",
   "metadata": {},
   "source": [
    "# 0. Initialized project"
   ]
  },
  {
   "cell_type": "code",
   "execution_count": 1,
   "metadata": {},
   "outputs": [],
   "source": [
    "# # This Python 3 environment comes with many helpful analytics libraries installed\n",
    "# # It is defined by the kaggle/python Docker image: https://github.com/kaggle/docker-python\n",
    "# # For example, here's several helpful packages to load\n",
    "\n",
    "# import numpy as np # linear algebra\n",
    "# import pandas as pd # data processing, CSV file I/O (e.g. pd.read_csv)\n",
    "\n",
    "# # Input data files are available in the read-only \"../input/\" directory\n",
    "# # For example, running this (by clicking run or pressing Shift+Enter) will list all files under the input directory\n",
    "\n",
    "# import os\n",
    "# for dirname, _, filenames in os.walk('/kaggle/input'):\n",
    "#     for filename in filenames:\n",
    "#         print(os.path.join(dirname, filename))\n",
    "\n",
    "# # You can write up to 20GB to the current directory (/kaggle/working/) that gets preserved as output when you create a version using \"Save & Run All\" \n",
    "# # You can also write temporary files to /kaggle/temp/, but they won't be saved outside of the current session"
   ]
  },
  {
   "cell_type": "code",
   "execution_count": 2,
   "metadata": {},
   "outputs": [],
   "source": [
    "import sklearn\n",
    "# import statsmodels\n",
    "# import optbinning\n",
    "# import mlxtend\n",
    "\n",
    "from tqdm import tqdm\n",
    "\n",
    "import lightgbm\n",
    "# import xgboost\n",
    "\n",
    "import pandas as pd\n",
    "import numpy as np\n",
    "\n",
    "import matplotlib.pyplot as plt\n",
    "import seaborn as sns\n",
    "\n",
    "pd.set_option('display.max_rows', 300)\n",
    "pd.set_option('display.max_columns', 80)\n",
    "pd.set_option('display.max_colwidth', None)"
   ]
  },
  {
   "cell_type": "code",
   "execution_count": 3,
   "metadata": {},
   "outputs": [
    {
     "data": {
      "text/plain": [
       "'\\n/kaggle/input/home-credit-default-risk/sample_submission.csv\\n/kaggle/input/home-credit-default-risk/bureau_balance.csv\\n/kaggle/input/home-credit-default-risk/POS_CASH_balance.csv\\n/kaggle/input/home-credit-default-risk/application_train.csv\\n/kaggle/input/home-credit-default-risk/HomeCredit_columns_description.csv\\n/kaggle/input/home-credit-default-risk/application_test.csv\\n/kaggle/input/home-credit-default-risk/previous_application.csv\\n/kaggle/input/home-credit-default-risk/credit_card_balance.csv\\n/kaggle/input/home-credit-default-risk/installments_payments.csv\\n/kaggle/input/home-credit-default-risk/bureau.csv\\n'"
      ]
     },
     "execution_count": 3,
     "metadata": {},
     "output_type": "execute_result"
    }
   ],
   "source": [
    "\"\"\"\n",
    "/kaggle/input/home-credit-default-risk/sample_submission.csv\n",
    "/kaggle/input/home-credit-default-risk/bureau_balance.csv\n",
    "/kaggle/input/home-credit-default-risk/POS_CASH_balance.csv\n",
    "/kaggle/input/home-credit-default-risk/application_train.csv\n",
    "/kaggle/input/home-credit-default-risk/HomeCredit_columns_description.csv\n",
    "/kaggle/input/home-credit-default-risk/application_test.csv\n",
    "/kaggle/input/home-credit-default-risk/previous_application.csv\n",
    "/kaggle/input/home-credit-default-risk/credit_card_balance.csv\n",
    "/kaggle/input/home-credit-default-risk/installments_payments.csv\n",
    "/kaggle/input/home-credit-default-risk/bureau.csv\n",
    "\"\"\""
   ]
  },
  {
   "cell_type": "code",
   "execution_count": 4,
   "metadata": {},
   "outputs": [],
   "source": [
    "# os.chdir('/kaggle/input')\n",
    "feature_group = pd.read_excel('data/HomeCredit_feature_group.xlsx')"
   ]
  },
  {
   "cell_type": "code",
   "execution_count": 5,
   "metadata": {},
   "outputs": [],
   "source": [
    "# os.chdir('/kaggle/input/home-credit-default-risk')\n",
    "#sample\n",
    "sample_submission = pd.read_csv('data/sample_submission.csv', encoding='utf-8')\n",
    "#bureau info\n",
    "bureau = pd.read_csv('data/bureau.csv', encoding='utf-8')\n",
    "bureau_balance = pd.read_csv('data/bureau_balance.csv', encoding='utf-8')\n",
    "#main info\n",
    "application_train = pd.read_csv('data/application_train.csv', encoding='utf-8')\n",
    "application_test = pd.read_csv('data/application_test.csv', encoding='utf-8')\n",
    "#past info\n",
    "previous_application = pd.read_csv('data/previous_application.csv', encoding='utf-8')\n",
    "#balance\n",
    "pos_cash_balance = pd.read_csv('data/POS_CASH_balance.csv', encoding='utf-8')\n",
    "#card info\n",
    "credit_card_balance = pd.read_csv('data/credit_card_balance.csv', encoding='utf-8')\n",
    "#payment info\n",
    "installments_payments = pd.read_csv('data/installments_payments.csv', encoding='utf-8')"
   ]
  },
  {
   "cell_type": "code",
   "execution_count": 6,
   "metadata": {},
   "outputs": [],
   "source": [
    "id_col = list(feature_group[feature_group['GROUP'].isin(['ID', 'LABEL'])]['Row'].unique())\n",
    "feature_col = list(feature_group[~feature_group['GROUP'].isin(['ID', 'LABEL'])]['Row'].unique())"
   ]
  },
  {
   "cell_type": "markdown",
   "metadata": {
    "jp-MarkdownHeadingCollapsed": true
   },
   "source": [
    "# 1. Exploratory data analysis"
   ]
  },
  {
   "cell_type": "code",
   "execution_count": 7,
   "metadata": {},
   "outputs": [
    {
     "data": {
      "text/plain": [
       "GROUP\n",
       "Credit info       65\n",
       "Housing           55\n",
       "Demo              31\n",
       "Credit balance    18\n",
       "POS               15\n",
       "ID                13\n",
       "Overdue            7\n",
       "Enquiries          6\n",
       "Credit score       3\n",
       "Credit Info        2\n",
       "Payment            2\n",
       "LABEL              1\n",
       "Income             1\n",
       "Name: count, dtype: int64"
      ]
     },
     "execution_count": 7,
     "metadata": {},
     "output_type": "execute_result"
    }
   ],
   "source": [
    "feature_group['GROUP'].value_counts()"
   ]
  },
  {
   "cell_type": "code",
   "execution_count": 7,
   "metadata": {},
   "outputs": [],
   "source": [
    "id_col = list(feature_group[feature_group['GROUP'].isin(['ID', 'LABEL'])]['Row'].unique())\n",
    "feature_col = list(feature_group[~feature_group['GROUP'].isin(['ID', 'LABEL'])]['Row'].unique())"
   ]
  },
  {
   "cell_type": "code",
   "execution_count": null,
   "metadata": {
    "execution": {
     "iopub.execute_input": "2024-08-18T14:20:14.300666Z",
     "iopub.status.busy": "2024-08-18T14:20:14.300309Z",
     "iopub.status.idle": "2024-08-18T14:20:14.312479Z",
     "shell.execute_reply": "2024-08-18T14:20:14.311467Z",
     "shell.execute_reply.started": "2024-08-18T14:20:14.300635Z"
    }
   },
   "outputs": [],
   "source": []
  },
  {
   "cell_type": "code",
   "execution_count": null,
   "metadata": {
    "execution": {
     "iopub.execute_input": "2024-08-18T14:20:14.494386Z",
     "iopub.status.busy": "2024-08-18T14:20:14.494079Z",
     "iopub.status.idle": "2024-08-18T14:20:14.499484Z",
     "shell.execute_reply": "2024-08-18T14:20:14.498314Z",
     "shell.execute_reply.started": "2024-08-18T14:20:14.494358Z"
    }
   },
   "outputs": [],
   "source": []
  },
  {
   "cell_type": "code",
   "execution_count": null,
   "metadata": {
    "execution": {
     "iopub.execute_input": "2024-08-18T14:20:14.501494Z",
     "iopub.status.busy": "2024-08-18T14:20:14.501044Z",
     "iopub.status.idle": "2024-08-18T14:20:14.580348Z",
     "shell.execute_reply": "2024-08-18T14:20:14.579351Z",
     "shell.execute_reply.started": "2024-08-18T14:20:14.501451Z"
    }
   },
   "outputs": [],
   "source": [
    "application_train.head(10)"
   ]
  },
  {
   "cell_type": "code",
   "execution_count": null,
   "metadata": {
    "execution": {
     "iopub.execute_input": "2024-08-18T14:20:14.582799Z",
     "iopub.status.busy": "2024-08-18T14:20:14.581930Z",
     "iopub.status.idle": "2024-08-18T14:20:14.615283Z",
     "shell.execute_reply": "2024-08-18T14:20:14.614227Z",
     "shell.execute_reply.started": "2024-08-18T14:20:14.582752Z"
    }
   },
   "outputs": [],
   "source": [
    "application_train.NAME_CONTRACT_TYPE.value_counts().index"
   ]
  },
  {
   "cell_type": "code",
   "execution_count": null,
   "metadata": {
    "execution": {
     "iopub.execute_input": "2024-08-18T14:20:14.616993Z",
     "iopub.status.busy": "2024-08-18T14:20:14.616657Z",
     "iopub.status.idle": "2024-08-18T14:20:14.669134Z",
     "shell.execute_reply": "2024-08-18T14:20:14.667893Z",
     "shell.execute_reply.started": "2024-08-18T14:20:14.616965Z"
    }
   },
   "outputs": [],
   "source": [
    "application_train[['NAME_FAMILY_STATUS','TARGET']].groupby(['NAME_FAMILY_STATUS'], as_index=False).mean()"
   ]
  },
  {
   "cell_type": "code",
   "execution_count": null,
   "metadata": {
    "execution": {
     "iopub.execute_input": "2024-08-18T14:20:14.670769Z",
     "iopub.status.busy": "2024-08-18T14:20:14.670344Z",
     "iopub.status.idle": "2024-08-18T14:20:14.711653Z",
     "shell.execute_reply": "2024-08-18T14:20:14.710436Z",
     "shell.execute_reply.started": "2024-08-18T14:20:14.670728Z"
    }
   },
   "outputs": [],
   "source": [
    "application_train[['NAME_FAMILY_STATUS']].value_counts()"
   ]
  },
  {
   "cell_type": "code",
   "execution_count": null,
   "metadata": {
    "execution": {
     "iopub.execute_input": "2024-08-18T14:20:14.713441Z",
     "iopub.status.busy": "2024-08-18T14:20:14.713088Z",
     "iopub.status.idle": "2024-08-18T14:20:14.755411Z",
     "shell.execute_reply": "2024-08-18T14:20:14.754444Z",
     "shell.execute_reply.started": "2024-08-18T14:20:14.713386Z"
    }
   },
   "outputs": [],
   "source": [
    "application_train[['NAME_FAMILY_STATUS','TARGET']].groupby(['NAME_FAMILY_STATUS']).mean()"
   ]
  },
  {
   "cell_type": "code",
   "execution_count": null,
   "metadata": {
    "execution": {
     "iopub.execute_input": "2024-08-18T14:20:14.756807Z",
     "iopub.status.busy": "2024-08-18T14:20:14.756501Z",
     "iopub.status.idle": "2024-08-18T14:20:14.836948Z",
     "shell.execute_reply": "2024-08-18T14:20:14.835885Z",
     "shell.execute_reply.started": "2024-08-18T14:20:14.756776Z"
    }
   },
   "outputs": [],
   "source": [
    "application_train[['NAME_FAMILY_STATUS','FONDKAPREMONT_MODE','TARGET']].value_counts()"
   ]
  },
  {
   "cell_type": "code",
   "execution_count": null,
   "metadata": {
    "execution": {
     "iopub.execute_input": "2024-08-18T14:20:14.838589Z",
     "iopub.status.busy": "2024-08-18T14:20:14.838238Z",
     "iopub.status.idle": "2024-08-18T14:20:14.857570Z",
     "shell.execute_reply": "2024-08-18T14:20:14.856461Z",
     "shell.execute_reply.started": "2024-08-18T14:20:14.838557Z"
    }
   },
   "outputs": [],
   "source": [
    "application_train[['NAME_FAMILY_STATUS', 'FONDKAPREMONT_MODE','TARGET']]"
   ]
  },
  {
   "cell_type": "code",
   "execution_count": null,
   "metadata": {
    "execution": {
     "iopub.execute_input": "2024-08-18T14:20:14.859166Z",
     "iopub.status.busy": "2024-08-18T14:20:14.858837Z",
     "iopub.status.idle": "2024-08-18T14:20:14.957572Z",
     "shell.execute_reply": "2024-08-18T14:20:14.956339Z",
     "shell.execute_reply.started": "2024-08-18T14:20:14.859135Z"
    }
   },
   "outputs": [],
   "source": [
    "application_train.pivot_table(values='TARGET',\n",
    "                  columns=['NAME_FAMILY_STATUS'],\n",
    "                  aggfunc=['count'],\n",
    "                  dropna=False,\n",
    "         index=['FONDKAPREMONT_MODE'])"
   ]
  },
  {
   "cell_type": "code",
   "execution_count": null,
   "metadata": {
    "execution": {
     "iopub.execute_input": "2024-08-18T14:20:14.959178Z",
     "iopub.status.busy": "2024-08-18T14:20:14.958826Z",
     "iopub.status.idle": "2024-08-18T14:20:15.068983Z",
     "shell.execute_reply": "2024-08-18T14:20:15.067855Z",
     "shell.execute_reply.started": "2024-08-18T14:20:14.959146Z"
    }
   },
   "outputs": [],
   "source": [
    "application_train.pivot_table(values='TARGET',\n",
    "                  aggfunc=['sum', 'count', 'mean'],\n",
    "                  dropna=False,\n",
    "         index=['NAME_FAMILY_STATUS'])"
   ]
  },
  {
   "cell_type": "code",
   "execution_count": 9,
   "metadata": {
    "execution": {
     "iopub.execute_input": "2024-08-22T10:37:51.099836Z",
     "iopub.status.busy": "2024-08-22T10:37:51.099389Z",
     "iopub.status.idle": "2024-08-22T10:37:51.109705Z",
     "shell.execute_reply": "2024-08-22T10:37:51.108551Z",
     "shell.execute_reply.started": "2024-08-22T10:37:51.099802Z"
    }
   },
   "outputs": [],
   "source": [
    "def plot_stats(feature:str, label:str, df, horizontal_layout, label_rotation):\n",
    "    #prepare data\n",
    "    temp_count = df[feature].value_counts()\n",
    "    df_count = pd.DataFrame({feature:temp_count.index, 'No contracts':temp_count.values})\n",
    "    df_perc = df[[feature, label]].groupby([feature], as_index=False).mean()\n",
    "    df_perc.sort_values(by=label, ascending=False, inplace=True)\n",
    "    \n",
    "    #initialize subplot\n",
    "    #horizontal layout\n",
    "    if horizontal_layout:\n",
    "        fig, (ax1, ax2) = plt.subplots(nrows=1, ncols=2, figsize=(12,6))\n",
    "    else:\n",
    "        fig, (ax1, ax2) = plt.subplots(nrows=2, ncols=1, figsize=(12,14))\n",
    "    sns.set_color_codes('pastel')\n",
    "    s1 = sns.barplot(ax=ax1, x=feature, y='No contracts', order=df_perc[feature], data=df_count)\n",
    "    s2 = sns.barplot(ax=ax2, x=feature, y=label, order=df_perc[feature], data=df_perc)\n",
    "    \n",
    "    #tickmark flip\n",
    "    if label_rotation:\n",
    "        s1.set_xticklabels(s1.get_xticklabels(), rotation=90)\n",
    "        s2.set_xticklabels(s2.get_xticklabels(), rotation=90)\n",
    "    \n",
    "    #set up chart\n",
    "    plt.ylabel('Percent of target with 1', fontsize=10)\n",
    "#     plt.tick_params(axis='both', which='major', labelsize=10)\n",
    "    plt.show()"
   ]
  },
  {
   "cell_type": "code",
   "execution_count": 10,
   "metadata": {
    "execution": {
     "iopub.execute_input": "2024-08-22T10:37:51.111541Z",
     "iopub.status.busy": "2024-08-22T10:37:51.111230Z",
     "iopub.status.idle": "2024-08-22T10:37:51.124507Z",
     "shell.execute_reply": "2024-08-22T10:37:51.123289Z",
     "shell.execute_reply.started": "2024-08-22T10:37:51.111513Z"
    }
   },
   "outputs": [],
   "source": [
    "def plot_distribution(df, feature, bins=100):\n",
    "    plt.figure(figsize=(10,6))\n",
    "    plt.title(\"Distribution of %s\"%feature)\n",
    "    sns.histplot(df[feature].dropna(), color='green', kde=True, bins=bins)\n",
    "    plt.show()"
   ]
  },
  {
   "cell_type": "code",
   "execution_count": 11,
   "metadata": {
    "execution": {
     "iopub.execute_input": "2024-08-22T10:37:51.126995Z",
     "iopub.status.busy": "2024-08-22T10:37:51.126055Z",
     "iopub.status.idle": "2024-08-22T10:37:51.136830Z",
     "shell.execute_reply": "2024-08-22T10:37:51.135836Z",
     "shell.execute_reply.started": "2024-08-22T10:37:51.126920Z"
    }
   },
   "outputs": [],
   "source": [
    "def plot_distribution_target(df, feature_list, label, nrows=3):\n",
    "    #data\n",
    "    t1 = df.loc[df[label] != 0]\n",
    "    t0 = df.loc[df[label] == 0]\n",
    "    #get frame\n",
    "    sns.set_style('whitegrid')\n",
    "    plt.figure()\n",
    "    fig, ax = plt.subplots(nrows=nrows, ncols=2, figsize=(12, 6*nrows))\n",
    "    \n",
    "    i=0\n",
    "    for feature in feature_list:\n",
    "        i += 1\n",
    "        plt.subplot(nrows,2,i)\n",
    "        sns.kdeplot(t1[feature], bw_method=0.01, label='TARGET [1]')\n",
    "        sns.kdeplot(t0[feature], bw_method=0.01, label='TARGET [0]')\n",
    "        plt.ylabel('Density plot', fontsize=12)\n",
    "        plt.xlabel(feature, fontsize=12)\n",
    "        locs, labels = plt.xticks()\n",
    "        plt.tick_params(axis='both', which='major', labelsize=10)\n",
    "    plt.legend()\n",
    "    plt.show()"
   ]
  },
  {
   "cell_type": "code",
   "execution_count": null,
   "metadata": {
    "execution": {
     "iopub.status.busy": "2024-08-18T14:18:13.564724Z",
     "iopub.status.idle": "2024-08-18T14:18:13.565253Z",
     "shell.execute_reply": "2024-08-18T14:18:13.565008Z",
     "shell.execute_reply.started": "2024-08-18T14:18:13.564983Z"
    }
   },
   "outputs": [],
   "source": [
    "plot_stats('FONDKAPREMONT_MODE','TARGET', application_train, True, True)"
   ]
  },
  {
   "cell_type": "code",
   "execution_count": null,
   "metadata": {
    "execution": {
     "iopub.execute_input": "2024-08-18T10:57:13.242305Z",
     "iopub.status.busy": "2024-08-18T10:57:13.241862Z",
     "iopub.status.idle": "2024-08-18T10:57:14.498968Z",
     "shell.execute_reply": "2024-08-18T10:57:14.497099Z",
     "shell.execute_reply.started": "2024-08-18T10:57:13.242270Z"
    }
   },
   "outputs": [],
   "source": [
    "plot_stats('OCCUPATION_TYPE','TARGET', application_train, True, True)"
   ]
  },
  {
   "cell_type": "code",
   "execution_count": null,
   "metadata": {
    "execution": {
     "iopub.execute_input": "2024-08-18T10:57:14.501130Z",
     "iopub.status.busy": "2024-08-18T10:57:14.500712Z",
     "iopub.status.idle": "2024-08-18T10:57:23.445950Z",
     "shell.execute_reply": "2024-08-18T10:57:23.444736Z",
     "shell.execute_reply.started": "2024-08-18T10:57:14.501095Z"
    },
    "scrolled": true
   },
   "outputs": [],
   "source": [
    "for i in range(2,22):\n",
    "    plot_stats(f'FLAG_DOCUMENT_{i}','TARGET', application_train, True, True)"
   ]
  },
  {
   "cell_type": "code",
   "execution_count": null,
   "metadata": {
    "execution": {
     "iopub.execute_input": "2024-08-18T10:57:23.447874Z",
     "iopub.status.busy": "2024-08-18T10:57:23.447485Z",
     "iopub.status.idle": "2024-08-18T10:57:23.470788Z",
     "shell.execute_reply": "2024-08-18T10:57:23.469283Z",
     "shell.execute_reply.started": "2024-08-18T10:57:23.447840Z"
    },
    "scrolled": true
   },
   "outputs": [],
   "source": [
    "application_train.info(verbose=True)"
   ]
  },
  {
   "cell_type": "code",
   "execution_count": null,
   "metadata": {
    "execution": {
     "iopub.execute_input": "2024-08-18T10:57:23.473344Z",
     "iopub.status.busy": "2024-08-18T10:57:23.472825Z",
     "iopub.status.idle": "2024-08-18T10:57:25.634222Z",
     "shell.execute_reply": "2024-08-18T10:57:25.632984Z",
     "shell.execute_reply.started": "2024-08-18T10:57:23.473254Z"
    }
   },
   "outputs": [],
   "source": [
    "plot_distribution(application_train, 'AMT_CREDIT', bins=30)"
   ]
  },
  {
   "cell_type": "code",
   "execution_count": null,
   "metadata": {},
   "outputs": [],
   "source": []
  },
  {
   "cell_type": "code",
   "execution_count": null,
   "metadata": {
    "execution": {
     "iopub.execute_input": "2024-08-18T10:57:25.636396Z",
     "iopub.status.busy": "2024-08-18T10:57:25.635932Z",
     "iopub.status.idle": "2024-08-18T10:57:41.805819Z",
     "shell.execute_reply": "2024-08-18T10:57:41.803798Z",
     "shell.execute_reply.started": "2024-08-18T10:57:25.636349Z"
    }
   },
   "outputs": [],
   "source": [
    "feature_list = ['AMT_REQ_CREDIT_BUREAU_YEAR','CNT_CHILDREN',\n",
    "                'EXT_SOURCE_1', 'EXT_SOURCE_2', 'EXT_SOURCE_3',\n",
    "                'AMT_INCOME_TOTAL','AMT_REQ_CREDIT_BUREAU_YEAR',\n",
    "                'LIVINGAPARTMENTS_AVG'\n",
    "               ]\n",
    "plot_distribution_target(application_train, feature_list, 'TARGET', nrows=4)"
   ]
  },
  {
   "cell_type": "code",
   "execution_count": null,
   "metadata": {},
   "outputs": [],
   "source": []
  },
  {
   "cell_type": "code",
   "execution_count": null,
   "metadata": {},
   "outputs": [],
   "source": []
  },
  {
   "cell_type": "code",
   "execution_count": null,
   "metadata": {
    "execution": {
     "iopub.execute_input": "2024-08-18T10:57:41.809249Z",
     "iopub.status.busy": "2024-08-18T10:57:41.808679Z",
     "iopub.status.idle": "2024-08-18T10:57:41.824158Z",
     "shell.execute_reply": "2024-08-18T10:57:41.822871Z",
     "shell.execute_reply.started": "2024-08-18T10:57:41.809204Z"
    }
   },
   "outputs": [],
   "source": [
    "id_list = feature_group[feature_group['GROUP'].isin(['ID','LABEL'])]['Row']\n",
    "feature_list = list(set(feature_group['Row']) - set(id_list))"
   ]
  },
  {
   "cell_type": "code",
   "execution_count": null,
   "metadata": {
    "execution": {
     "iopub.execute_input": "2024-08-18T10:57:41.827316Z",
     "iopub.status.busy": "2024-08-18T10:57:41.826869Z",
     "iopub.status.idle": "2024-08-18T10:57:41.855993Z",
     "shell.execute_reply": "2024-08-18T10:57:41.851835Z",
     "shell.execute_reply.started": "2024-08-18T10:57:41.827255Z"
    }
   },
   "outputs": [],
   "source": [
    "len(feature_list)"
   ]
  },
  {
   "cell_type": "code",
   "execution_count": null,
   "metadata": {
    "execution": {
     "iopub.execute_input": "2024-08-18T10:57:41.858124Z",
     "iopub.status.busy": "2024-08-18T10:57:41.857650Z",
     "iopub.status.idle": "2024-08-18T10:57:45.745438Z",
     "shell.execute_reply": "2024-08-18T10:57:45.743486Z",
     "shell.execute_reply.started": "2024-08-18T10:57:41.858064Z"
    }
   },
   "outputs": [],
   "source": [
    "plot_distribution(bureau, 'AMT_ANNUITY', bins=30)"
   ]
  },
  {
   "cell_type": "code",
   "execution_count": null,
   "metadata": {
    "execution": {
     "iopub.execute_input": "2024-08-18T10:57:45.748173Z",
     "iopub.status.busy": "2024-08-18T10:57:45.747592Z",
     "iopub.status.idle": "2024-08-18T10:57:52.087025Z",
     "shell.execute_reply": "2024-08-18T10:57:52.085675Z",
     "shell.execute_reply.started": "2024-08-18T10:57:45.748124Z"
    }
   },
   "outputs": [],
   "source": [
    "plot_distribution(bureau, 'AMT_CREDIT_SUM_LIMIT', bins=30)"
   ]
  },
  {
   "cell_type": "code",
   "execution_count": null,
   "metadata": {
    "execution": {
     "iopub.execute_input": "2024-08-18T10:57:52.089311Z",
     "iopub.status.busy": "2024-08-18T10:57:52.088837Z",
     "iopub.status.idle": "2024-08-18T10:57:52.102485Z",
     "shell.execute_reply": "2024-08-18T10:57:52.101175Z",
     "shell.execute_reply.started": "2024-08-18T10:57:52.089257Z"
    }
   },
   "outputs": [],
   "source": [
    "bureau_balance.head()"
   ]
  },
  {
   "cell_type": "code",
   "execution_count": null,
   "metadata": {
    "execution": {
     "iopub.execute_input": "2024-08-18T10:57:52.104977Z",
     "iopub.status.busy": "2024-08-18T10:57:52.104351Z",
     "iopub.status.idle": "2024-08-18T10:57:55.756005Z",
     "shell.execute_reply": "2024-08-18T10:57:55.754414Z",
     "shell.execute_reply.started": "2024-08-18T10:57:52.104933Z"
    }
   },
   "outputs": [],
   "source": [
    "bureau_balance['STATUS'].value_counts()"
   ]
  },
  {
   "cell_type": "code",
   "execution_count": null,
   "metadata": {
    "execution": {
     "iopub.execute_input": "2024-08-18T10:57:55.758218Z",
     "iopub.status.busy": "2024-08-18T10:57:55.757767Z",
     "iopub.status.idle": "2024-08-18T10:57:55.785497Z",
     "shell.execute_reply": "2024-08-18T10:57:55.784034Z",
     "shell.execute_reply.started": "2024-08-18T10:57:55.758172Z"
    }
   },
   "outputs": [],
   "source": [
    "pos_cash_balance.head()"
   ]
  },
  {
   "cell_type": "code",
   "execution_count": null,
   "metadata": {},
   "outputs": [],
   "source": []
  },
  {
   "cell_type": "code",
   "execution_count": null,
   "metadata": {},
   "outputs": [],
   "source": []
  },
  {
   "cell_type": "code",
   "execution_count": null,
   "metadata": {
    "execution": {
     "iopub.execute_input": "2024-08-18T10:57:55.787956Z",
     "iopub.status.busy": "2024-08-18T10:57:55.787418Z",
     "iopub.status.idle": "2024-08-18T10:57:56.344851Z",
     "shell.execute_reply": "2024-08-18T10:57:56.343376Z",
     "shell.execute_reply.started": "2024-08-18T10:57:55.787904Z"
    },
    "scrolled": true
   },
   "outputs": [],
   "source": [
    "application_train.info(verbose=True, show_counts=True)"
   ]
  },
  {
   "cell_type": "code",
   "execution_count": null,
   "metadata": {
    "execution": {
     "iopub.execute_input": "2024-08-18T10:57:56.347290Z",
     "iopub.status.busy": "2024-08-18T10:57:56.346767Z",
     "iopub.status.idle": "2024-08-18T10:57:56.358728Z",
     "shell.execute_reply": "2024-08-18T10:57:56.357105Z",
     "shell.execute_reply.started": "2024-08-18T10:57:56.347241Z"
    }
   },
   "outputs": [],
   "source": [
    "application_train['FLAG_DOCUMENT_10'].isna().sum()"
   ]
  },
  {
   "cell_type": "code",
   "execution_count": null,
   "metadata": {
    "execution": {
     "iopub.execute_input": "2024-08-18T14:20:15.111503Z",
     "iopub.status.busy": "2024-08-18T14:20:15.111041Z",
     "iopub.status.idle": "2024-08-18T14:20:15.124492Z",
     "shell.execute_reply": "2024-08-18T14:20:15.123532Z",
     "shell.execute_reply.started": "2024-08-18T14:20:15.111464Z"
    }
   },
   "outputs": [],
   "source": []
  },
  {
   "cell_type": "code",
   "execution_count": null,
   "metadata": {
    "scrolled": true
   },
   "outputs": [],
   "source": []
  },
  {
   "cell_type": "code",
   "execution_count": null,
   "metadata": {
    "execution": {
     "iopub.execute_input": "2024-08-18T14:20:15.126823Z",
     "iopub.status.busy": "2024-08-18T14:20:15.125861Z",
     "iopub.status.idle": "2024-08-18T14:20:15.135532Z",
     "shell.execute_reply": "2024-08-18T14:20:15.134432Z",
     "shell.execute_reply.started": "2024-08-18T14:20:15.126777Z"
    },
    "scrolled": true
   },
   "outputs": [],
   "source": []
  },
  {
   "cell_type": "code",
   "execution_count": null,
   "metadata": {},
   "outputs": [],
   "source": []
  },
  {
   "cell_type": "code",
   "execution_count": null,
   "metadata": {},
   "outputs": [],
   "source": []
  },
  {
   "cell_type": "code",
   "execution_count": null,
   "metadata": {
    "execution": {
     "iopub.execute_input": "2024-08-18T14:20:34.322192Z",
     "iopub.status.busy": "2024-08-18T14:20:34.321770Z",
     "iopub.status.idle": "2024-08-18T14:20:34.329753Z",
     "shell.execute_reply": "2024-08-18T14:20:34.328637Z",
     "shell.execute_reply.started": "2024-08-18T14:20:34.322138Z"
    },
    "scrolled": true
   },
   "outputs": [],
   "source": [
    "filter1_comp['app']"
   ]
  },
  {
   "cell_type": "markdown",
   "metadata": {},
   "source": [
    "# 2 Feature engineering"
   ]
  },
  {
   "cell_type": "code",
   "execution_count": null,
   "metadata": {
    "execution": {
     "iopub.execute_input": "2024-08-18T15:59:45.795308Z",
     "iopub.status.busy": "2024-08-18T15:59:45.794661Z",
     "iopub.status.idle": "2024-08-18T15:59:45.806269Z",
     "shell.execute_reply": "2024-08-18T15:59:45.805171Z",
     "shell.execute_reply.started": "2024-08-18T15:59:45.795260Z"
    }
   },
   "outputs": [],
   "source": [
    "# os.chdir('/kaggle/working')"
   ]
  },
  {
   "cell_type": "markdown",
   "metadata": {},
   "source": [
    "## main feature - income, credit"
   ]
  },
  {
   "cell_type": "code",
   "execution_count": 8,
   "metadata": {},
   "outputs": [
    {
     "name": "stdout",
     "output_type": "stream",
     "text": [
      "app\n",
      "prev\n",
      "pos\n",
      "cc\n",
      "inst\n",
      "bu\n",
      "bu_bal\n"
     ]
    }
   ],
   "source": [
    "def distinct_count(df):\n",
    "    most_count_lst = {'col':[],'most_count':[], 'null_count':[]}\n",
    "    total_count = len(df)\n",
    "    for col in df.columns:\n",
    "        most_count = df[col].value_counts(sort=True, dropna=False).iloc[0]\n",
    "        null_count = df[col].isna().sum()\n",
    "        \n",
    "        cover_pct = most_count/total_count\n",
    "        null_pct = null_count/total_count\n",
    "        \n",
    "        most_count_lst['col'].append(col)\n",
    "        most_count_lst['most_count'].append(cover_pct)\n",
    "        most_count_lst['null_count'].append(null_pct)\n",
    "    \n",
    "    return pd.DataFrame(most_count_lst)\n",
    "\n",
    "df_list = [application_train, previous_application, pos_cash_balance, credit_card_balance, installments_payments, bureau, bureau_balance]\n",
    "feat_store = ['app', 'prev', 'pos', 'cc', 'inst', 'bu', 'bu_bal']\n",
    "\n",
    "filter1_comp = {}\n",
    "\n",
    "for df, st in zip(df_list, feat_store):\n",
    "    filter1 = distinct_count(df)\n",
    "    drop_most_count = list(set(filter1[filter1['most_count']>=0.8]['col'])-set(id_col))\n",
    "    drop_most_null = list(set(filter1[filter1['null_count']>=0.6]['col'])-set(id_col))\n",
    "    filter1_comp[st] = drop_most_count + drop_most_null\n",
    "    print(st)"
   ]
  },
  {
   "cell_type": "code",
   "execution_count": 9,
   "metadata": {},
   "outputs": [],
   "source": [
    "# id_col = list(feature_group[feature_group['GROUP'].isin(['ID', 'LABEL'])]['Row'].unique())\n",
    "# feature_col = list(feature_group[~feature_group['GROUP'].isin(['ID', 'LABEL'])]['Row'].unique())"
   ]
  },
  {
   "cell_type": "code",
   "execution_count": 10,
   "metadata": {},
   "outputs": [
    {
     "data": {
      "text/plain": [
       "['CNT_CREDIT_PROLONG',\n",
       " 'AMT_CREDIT_SUM_OVERDUE',\n",
       " 'CREDIT_DAY_OVERDUE',\n",
       " 'CREDIT_CURRENCY',\n",
       " 'AMT_ANNUITY',\n",
       " 'AMT_CREDIT_MAX_OVERDUE']"
      ]
     },
     "execution_count": 10,
     "metadata": {},
     "output_type": "execute_result"
    }
   ],
   "source": [
    "filter1_comp['bu']"
   ]
  },
  {
   "cell_type": "code",
   "execution_count": 11,
   "metadata": {},
   "outputs": [
    {
     "data": {
      "text/plain": [
       "['SK_ID_CURR', 'TARGET', 'SK_BUREAU_ID', 'SK_ID_PREV ', 'NAME_CONTRACT_TYPE']"
      ]
     },
     "execution_count": 11,
     "metadata": {},
     "output_type": "execute_result"
    }
   ],
   "source": [
    "id_col"
   ]
  },
  {
   "cell_type": "code",
   "execution_count": 12,
   "metadata": {},
   "outputs": [],
   "source": [
    "### PROCESS ###\n",
    "def application_feature(df):\n",
    "    df['AGE'] = round(df['DAYS_BIRTH']*-1/365,0)\n",
    "    df['YEAR_WORKING'] = round(df['DAYS_EMPLOYED']*-1/365,0)\n",
    "    df['inc_ovr_credit'] = df['AMT_INCOME_TOTAL']/df['AMT_CREDIT']\n",
    "    df['inc_ovr_annuity'] = df['AMT_INCOME_TOTAL']/df['AMT_ANNUITY']\n",
    "    df['inc_ovr_good'] = df['AMT_INCOME_TOTAL']/df['AMT_GOODS_PRICE']\n",
    "    return df"
   ]
  },
  {
   "cell_type": "code",
   "execution_count": 13,
   "metadata": {},
   "outputs": [],
   "source": [
    "application_train = (\n",
    "    application_train.pipe(application_feature)\n",
    "    )"
   ]
  },
  {
   "cell_type": "code",
   "execution_count": 14,
   "metadata": {},
   "outputs": [
    {
     "data": {
      "text/plain": [
       "<Axes: >"
      ]
     },
     "execution_count": 14,
     "metadata": {},
     "output_type": "execute_result"
    },
    {
     "data": {
      "image/png": "[encoded data removed]",
      "text/plain": [
       "<Figure size 640x480 with 1 Axes>"
      ]
     },
     "metadata": {},
     "output_type": "display_data"
    }
   ],
   "source": [
    "application_train['inc_ovr_good'].hist(range=(0,2))"
   ]
  },
  {
   "cell_type": "code",
   "execution_count": null,
   "metadata": {},
   "outputs": [],
   "source": []
  },
  {
   "cell_type": "markdown",
   "metadata": {},
   "source": [
    "## TS dpd, loan_term"
   ]
  },
  {
   "cell_type": "code",
   "execution_count": 13,
   "metadata": {
    "jupyter": {
     "source_hidden": true
    }
   },
   "outputs": [],
   "source": [
    "from functools import reduce\n",
    "\n",
    "def time_travel(df, mth):\n",
    "    \"\"\"\n",
    "    DAYS_CREDIT --> LxM\n",
    "    \"\"\"\n",
    "    filter_time = (df['LxM']*-1) <= mth\n",
    "    return df[filter_time]\n",
    "   \n",
    "# customer function\n",
    "def q20(x):\n",
    "    return x.quantile(0.2)\n",
    "\n",
    "def q80(x):\n",
    "    return x.quantile(0.8)\n",
    "\n",
    "def average(x, mth_counts):\n",
    "    \"\"\"\n",
    "    x = pd.Series\n",
    "    \"\"\"\n",
    "    return x.sum()/mth_counts\n",
    "\n",
    "    \n",
    "def agg_cal(input_df:pd.DataFrame, \n",
    "            group_col:list, \n",
    "            val:str,\n",
    "            agg_fn:list,\n",
    "           ):    \n",
    "    \n",
    "    group_df = input_df[[val]+group_col].groupby(group_col, dropna=False)\n",
    "    \n",
    "    df = group_df.agg({val:agg_fn})\n",
    "    df.columns = agg_fn\n",
    "    all_func = agg_fn\n",
    "    function_name = [fn.__name__ if callable(fn) else fn for fn in agg_fn]\n",
    "    rename_cols = [val+'_'+F for F in (function_name)]\n",
    "    df.columns = rename_cols\n",
    "    \n",
    "    return df\n",
    "\n",
    "\n",
    "def generate_feature_lxm(df, \n",
    "                         group_col:list, \n",
    "                         val_col:list, \n",
    "                         agg_fn:list,  \n",
    "                         LxM:list):\n",
    "    \"\"\"\n",
    "        required columns: ['LxM']\n",
    "    \"\"\"\n",
    "    result_lst = []\n",
    "    for val in tqdm(val_col):\n",
    "        for mth_counts in LxM: \n",
    "            df_lxm = time_travel(df, mth_counts)\n",
    "            result = agg_cal(df_lxm, group_col, val, agg_fn)\n",
    "            result.columns = [col+f'_l{mth_counts}m' for col in result.columns]\n",
    "            result_lst.append(result)\n",
    "        \n",
    "    final_df = reduce(lambda  left,right: pd.merge(left, right, on=group_col, how='outer'), result_lst)\n",
    "    return final_df"
   ]
  },
  {
   "cell_type": "code",
   "execution_count": 15,
   "metadata": {},
   "outputs": [],
   "source": [
    "import warnings\n",
    "warnings.filterwarnings('ignore')"
   ]
  },
  {
   "cell_type": "code",
   "execution_count": 17,
   "metadata": {},
   "outputs": [],
   "source": [
    "df_pcb = bureau[bureau['SK_ID_CURR'].isin(application_train['SK_ID_CURR'].unique())]\n",
    "df_pcb['LxM'] = df_pcb['DAYS_CREDIT']/30.5\n",
    "df_pcb['loan_term'] = df_pcb['AMT_CREDIT_SUM']/df_pcb['AMT_ANNUITY']"
   ]
  },
  {
   "cell_type": "code",
   "execution_count": null,
   "metadata": {
    "execution": {
     "iopub.execute_input": "2024-08-18T16:00:19.884523Z",
     "iopub.status.busy": "2024-08-18T16:00:19.884051Z",
     "iopub.status.idle": "2024-08-18T16:00:19.891410Z",
     "shell.execute_reply": "2024-08-18T16:00:19.890313Z",
     "shell.execute_reply.started": "2024-08-18T16:00:19.884476Z"
    }
   },
   "outputs": [],
   "source": [
    "len(application_train)"
   ]
  },
  {
   "cell_type": "markdown",
   "metadata": {},
   "source": [
    "## TS bureau - amt, limit, term"
   ]
  },
  {
   "cell_type": "code",
   "execution_count": null,
   "metadata": {
    "execution": {
     "iopub.execute_input": "2024-08-18T16:00:19.893229Z",
     "iopub.status.busy": "2024-08-18T16:00:19.892781Z",
     "iopub.status.idle": "2024-08-18T16:00:19.903885Z",
     "shell.execute_reply": "2024-08-18T16:00:19.902830Z",
     "shell.execute_reply.started": "2024-08-18T16:00:19.893190Z"
    }
   },
   "outputs": [],
   "source": [
    "len(df_pcb)"
   ]
  },
  {
   "cell_type": "code",
   "execution_count": null,
   "metadata": {
    "execution": {
     "iopub.execute_input": "2024-08-18T16:00:19.905494Z",
     "iopub.status.busy": "2024-08-18T16:00:19.905101Z",
     "iopub.status.idle": "2024-08-18T16:00:20.032810Z",
     "shell.execute_reply": "2024-08-18T16:00:20.031654Z",
     "shell.execute_reply.started": "2024-08-18T16:00:19.905463Z"
    }
   },
   "outputs": [],
   "source": [
    "df_pcb['CREDIT_ACTIVE'].value_counts()"
   ]
  },
  {
   "cell_type": "code",
   "execution_count": 14,
   "metadata": {},
   "outputs": [],
   "source": [
    "def pcb_ts_info(df_pcb):\n",
    "    active = df_pcb['CREDIT_ACTIVE']=='Active'\n",
    "    close = df_pcb['CREDIT_ACTIVE']=='Closed'\n",
    "    df_active = df_pcb[active]\n",
    "    df_close = df_pcb[close]\n",
    "\n",
    "    group_col = ['SK_ID_CURR']\n",
    "    val_col = ['AMT_CREDIT_SUM','AMT_CREDIT_SUM_LIMIT', 'AMT_CREDIT_SUM_DEBT', 'loan_term']\n",
    "    agg_fn = ['mean','min','max','sum','count', 'std', 'var']\n",
    "    LxM = [3,6,9,12,15,24,36]\n",
    "\n",
    "    pcb_ts_all = generate_feature_lxm(df_pcb, group_col, val_col, agg_fn, LxM)\n",
    "    pcb_ts_active = generate_feature_lxm(df_active, group_col, val_col, agg_fn, LxM)\n",
    "    pcb_ts_closed = generate_feature_lxm(df_close, group_col, val_col, agg_fn, LxM)\n",
    "\n",
    "    pcb_ts_active.columns = [col+'_active' for col in pcb_ts_active.columns]\n",
    "    pcb_ts_closed.columns = [col+'_close' for col in pcb_ts_closed.columns]\n",
    "    \n",
    "    result_lst = [pcb_ts_all, pcb_ts_active, pcb_ts_closed]\n",
    "    \n",
    "    final_df = reduce(lambda  left,right: pd.merge(left, right, on=group_col, how='outer'), result_lst)\n",
    "    return final_df"
   ]
  },
  {
   "cell_type": "code",
   "execution_count": null,
   "metadata": {
    "execution": {
     "iopub.execute_input": "2024-08-18T16:00:20.047477Z",
     "iopub.status.busy": "2024-08-18T16:00:20.047013Z",
     "iopub.status.idle": "2024-08-18T16:00:38.490160Z",
     "shell.execute_reply": "2024-08-18T16:00:38.489203Z",
     "shell.execute_reply.started": "2024-08-18T16:00:20.047438Z"
    }
   },
   "outputs": [],
   "source": [
    "pcb_ts_total = pcb_ts_info(df_pcb)"
   ]
  },
  {
   "cell_type": "code",
   "execution_count": null,
   "metadata": {
    "execution": {
     "iopub.execute_input": "2024-08-18T16:00:38.491831Z",
     "iopub.status.busy": "2024-08-18T16:00:38.491500Z",
     "iopub.status.idle": "2024-08-18T16:01:00.728110Z",
     "shell.execute_reply": "2024-08-18T16:01:00.726962Z",
     "shell.execute_reply.started": "2024-08-18T16:00:38.491801Z"
    }
   },
   "outputs": [],
   "source": [
    "prod_group = ['Consumer credit', 'Credit card', 'Car loan', 'Mortgage']\n",
    "pcb_ts_prod = {}\n",
    "for prod in prod_group:\n",
    "    print(f'Processing {prod}')\n",
    "    df_prod = df_pcb[df_pcb['CREDIT_TYPE'] == prod].copy()\n",
    "    pcb_ts_prod[prod] = pcb_ts_info(df_prod)"
   ]
  },
  {
   "cell_type": "code",
   "execution_count": null,
   "metadata": {
    "execution": {
     "iopub.execute_input": "2024-08-18T16:01:00.730063Z",
     "iopub.status.busy": "2024-08-18T16:01:00.729621Z",
     "iopub.status.idle": "2024-08-18T16:01:00.739574Z",
     "shell.execute_reply": "2024-08-18T16:01:00.738195Z",
     "shell.execute_reply.started": "2024-08-18T16:01:00.730023Z"
    }
   },
   "outputs": [],
   "source": [
    "rename_prod = ['csm', 'card', 'car', 'mg']\n",
    "\n",
    "for prod, name in zip(prod_group, rename_prod):\n",
    "    df_to_rename = pcb_ts_prod[prod]\n",
    "    df_to_rename.columns = [col+'_'+name for col in df_to_rename.columns] \n",
    "    print(prod)"
   ]
  },
  {
   "cell_type": "code",
   "execution_count": null,
   "metadata": {
    "execution": {
     "iopub.execute_input": "2024-08-18T16:01:00.742156Z",
     "iopub.status.busy": "2024-08-18T16:01:00.741429Z",
     "iopub.status.idle": "2024-08-18T16:01:02.900357Z",
     "shell.execute_reply": "2024-08-18T16:01:02.899330Z",
     "shell.execute_reply.started": "2024-08-18T16:01:00.742112Z"
    }
   },
   "outputs": [],
   "source": [
    "to_merge = [i.reset_index() for i in pcb_ts_prod.values()]\n",
    "to_merge.append(pcb_ts_total)\n",
    "\n",
    "del pcb_ts_prod\n",
    "del pcb_ts_total"
   ]
  },
  {
   "cell_type": "code",
   "execution_count": null,
   "metadata": {
    "execution": {
     "iopub.execute_input": "2024-08-18T16:01:02.901874Z",
     "iopub.status.busy": "2024-08-18T16:01:02.901527Z",
     "iopub.status.idle": "2024-08-18T16:01:18.421504Z",
     "shell.execute_reply": "2024-08-18T16:01:18.420293Z",
     "shell.execute_reply.started": "2024-08-18T16:01:02.901843Z"
    }
   },
   "outputs": [],
   "source": [
    "pcb_info_conso = reduce(lambda  left,right: pd.merge(left, right, on='SK_ID_CURR', how='outer'), to_merge)"
   ]
  },
  {
   "cell_type": "code",
   "execution_count": null,
   "metadata": {
    "execution": {
     "iopub.execute_input": "2024-08-18T16:01:18.423236Z",
     "iopub.status.busy": "2024-08-18T16:01:18.422875Z",
     "iopub.status.idle": "2024-08-18T16:01:29.294665Z",
     "shell.execute_reply": "2024-08-18T16:01:29.293592Z",
     "shell.execute_reply.started": "2024-08-18T16:01:18.423207Z"
    }
   },
   "outputs": [],
   "source": [
    "filter1a = distinct_count(pcb_info_conso)\n",
    "drop_most_count = list(set(filter1a[filter1a['most_count']>=0.8]['col'])-set(id_col))\n",
    "drop_most_null = list(set(filter1a[filter1a['null_count']>=0.6]['col'])-set(id_col))"
   ]
  },
  {
   "cell_type": "code",
   "execution_count": null,
   "metadata": {
    "execution": {
     "iopub.execute_input": "2024-08-18T16:01:29.296093Z",
     "iopub.status.busy": "2024-08-18T16:01:29.295782Z",
     "iopub.status.idle": "2024-08-18T16:01:29.301669Z",
     "shell.execute_reply": "2024-08-18T16:01:29.300486Z",
     "shell.execute_reply.started": "2024-08-18T16:01:29.296067Z"
    }
   },
   "outputs": [],
   "source": [
    "keep = set(pcb_info_conso.columns) - set(drop_most_count + drop_most_null)"
   ]
  },
  {
   "cell_type": "code",
   "execution_count": null,
   "metadata": {
    "execution": {
     "iopub.execute_input": "2024-08-18T16:01:29.303494Z",
     "iopub.status.busy": "2024-08-18T16:01:29.303112Z",
     "iopub.status.idle": "2024-08-18T16:01:29.579942Z",
     "shell.execute_reply": "2024-08-18T16:01:29.579018Z",
     "shell.execute_reply.started": "2024-08-18T16:01:29.303464Z"
    }
   },
   "outputs": [],
   "source": [
    "pcb_info_conso_ = pcb_info_conso[list(keep)]\n",
    "del pcb_info_conso"
   ]
  },
  {
   "cell_type": "code",
   "execution_count": null,
   "metadata": {
    "execution": {
     "iopub.execute_input": "2024-08-18T16:01:29.581567Z",
     "iopub.status.busy": "2024-08-18T16:01:29.581272Z",
     "iopub.status.idle": "2024-08-18T16:01:36.577561Z",
     "shell.execute_reply": "2024-08-18T16:01:36.576242Z",
     "shell.execute_reply.started": "2024-08-18T16:01:29.581543Z"
    }
   },
   "outputs": [],
   "source": [
    "application_train.to_parquet(r'main_df.parquet')\n",
    "pcb_info_conso_.to_parquet(r'pcb_info_conso.parquet')"
   ]
  },
  {
   "cell_type": "code",
   "execution_count": null,
   "metadata": {},
   "outputs": [],
   "source": []
  },
  {
   "cell_type": "markdown",
   "metadata": {},
   "source": [
    "#### Checkpoint"
   ]
  },
  {
   "cell_type": "code",
   "execution_count": 16,
   "metadata": {},
   "outputs": [],
   "source": [
    "#Check point\n",
    "\n",
    "application_train = pd.read_parquet(r'data/main_df.parquet')\n",
    "pcb_info_conso_ = pd.read_parquet(r'data/pcb_info_conso.parquet')"
   ]
  },
  {
   "cell_type": "code",
   "execution_count": 17,
   "metadata": {},
   "outputs": [
    {
     "data": {
      "text/html": [
       "<div>\n",
       "<style scoped>\n",
       "    .dataframe tbody tr th:only-of-type {\n",
       "        vertical-align: middle;\n",
       "    }\n",
       "\n",
       "    .dataframe tbody tr th {\n",
       "        vertical-align: top;\n",
       "    }\n",
       "\n",
       "    .dataframe thead th {\n",
       "        text-align: right;\n",
       "    }\n",
       "</style>\n",
       "<table border=\"1\" class=\"dataframe\">\n",
       "  <thead>\n",
       "    <tr style=\"text-align: right;\">\n",
       "      <th></th>\n",
       "      <th>SK_ID_CURR</th>\n",
       "      <th>TARGET</th>\n",
       "      <th>NAME_CONTRACT_TYPE</th>\n",
       "      <th>CODE_GENDER</th>\n",
       "      <th>FLAG_OWN_CAR</th>\n",
       "      <th>FLAG_OWN_REALTY</th>\n",
       "      <th>CNT_CHILDREN</th>\n",
       "      <th>AMT_INCOME_TOTAL</th>\n",
       "      <th>AMT_CREDIT</th>\n",
       "      <th>AMT_ANNUITY</th>\n",
       "      <th>AMT_GOODS_PRICE</th>\n",
       "      <th>NAME_TYPE_SUITE</th>\n",
       "      <th>NAME_INCOME_TYPE</th>\n",
       "      <th>NAME_EDUCATION_TYPE</th>\n",
       "      <th>NAME_FAMILY_STATUS</th>\n",
       "      <th>NAME_HOUSING_TYPE</th>\n",
       "      <th>REGION_POPULATION_RELATIVE</th>\n",
       "      <th>DAYS_BIRTH</th>\n",
       "      <th>DAYS_EMPLOYED</th>\n",
       "      <th>DAYS_REGISTRATION</th>\n",
       "      <th>DAYS_ID_PUBLISH</th>\n",
       "      <th>OWN_CAR_AGE</th>\n",
       "      <th>FLAG_MOBIL</th>\n",
       "      <th>FLAG_EMP_PHONE</th>\n",
       "      <th>FLAG_WORK_PHONE</th>\n",
       "      <th>FLAG_CONT_MOBILE</th>\n",
       "      <th>FLAG_PHONE</th>\n",
       "      <th>FLAG_EMAIL</th>\n",
       "      <th>OCCUPATION_TYPE</th>\n",
       "      <th>CNT_FAM_MEMBERS</th>\n",
       "      <th>REGION_RATING_CLIENT</th>\n",
       "      <th>REGION_RATING_CLIENT_W_CITY</th>\n",
       "      <th>WEEKDAY_APPR_PROCESS_START</th>\n",
       "      <th>HOUR_APPR_PROCESS_START</th>\n",
       "      <th>REG_REGION_NOT_LIVE_REGION</th>\n",
       "      <th>REG_REGION_NOT_WORK_REGION</th>\n",
       "      <th>LIVE_REGION_NOT_WORK_REGION</th>\n",
       "      <th>REG_CITY_NOT_LIVE_CITY</th>\n",
       "      <th>REG_CITY_NOT_WORK_CITY</th>\n",
       "      <th>LIVE_CITY_NOT_WORK_CITY</th>\n",
       "      <th>...</th>\n",
       "      <th>HOUSETYPE_MODE</th>\n",
       "      <th>TOTALAREA_MODE</th>\n",
       "      <th>WALLSMATERIAL_MODE</th>\n",
       "      <th>EMERGENCYSTATE_MODE</th>\n",
       "      <th>OBS_30_CNT_SOCIAL_CIRCLE</th>\n",
       "      <th>DEF_30_CNT_SOCIAL_CIRCLE</th>\n",
       "      <th>OBS_60_CNT_SOCIAL_CIRCLE</th>\n",
       "      <th>DEF_60_CNT_SOCIAL_CIRCLE</th>\n",
       "      <th>DAYS_LAST_PHONE_CHANGE</th>\n",
       "      <th>FLAG_DOCUMENT_2</th>\n",
       "      <th>FLAG_DOCUMENT_3</th>\n",
       "      <th>FLAG_DOCUMENT_4</th>\n",
       "      <th>FLAG_DOCUMENT_5</th>\n",
       "      <th>FLAG_DOCUMENT_6</th>\n",
       "      <th>FLAG_DOCUMENT_7</th>\n",
       "      <th>FLAG_DOCUMENT_8</th>\n",
       "      <th>FLAG_DOCUMENT_9</th>\n",
       "      <th>FLAG_DOCUMENT_10</th>\n",
       "      <th>FLAG_DOCUMENT_11</th>\n",
       "      <th>FLAG_DOCUMENT_12</th>\n",
       "      <th>FLAG_DOCUMENT_13</th>\n",
       "      <th>FLAG_DOCUMENT_14</th>\n",
       "      <th>FLAG_DOCUMENT_15</th>\n",
       "      <th>FLAG_DOCUMENT_16</th>\n",
       "      <th>FLAG_DOCUMENT_17</th>\n",
       "      <th>FLAG_DOCUMENT_18</th>\n",
       "      <th>FLAG_DOCUMENT_19</th>\n",
       "      <th>FLAG_DOCUMENT_20</th>\n",
       "      <th>FLAG_DOCUMENT_21</th>\n",
       "      <th>AMT_REQ_CREDIT_BUREAU_HOUR</th>\n",
       "      <th>AMT_REQ_CREDIT_BUREAU_DAY</th>\n",
       "      <th>AMT_REQ_CREDIT_BUREAU_WEEK</th>\n",
       "      <th>AMT_REQ_CREDIT_BUREAU_MON</th>\n",
       "      <th>AMT_REQ_CREDIT_BUREAU_QRT</th>\n",
       "      <th>AMT_REQ_CREDIT_BUREAU_YEAR</th>\n",
       "      <th>AGE</th>\n",
       "      <th>YEAR_WORKING</th>\n",
       "      <th>inc_ovr_credit</th>\n",
       "      <th>inc_ovr_annuity</th>\n",
       "      <th>inc_ovr_good</th>\n",
       "    </tr>\n",
       "  </thead>\n",
       "  <tbody>\n",
       "    <tr>\n",
       "      <th>0</th>\n",
       "      <td>100002</td>\n",
       "      <td>1</td>\n",
       "      <td>Cash loans</td>\n",
       "      <td>M</td>\n",
       "      <td>N</td>\n",
       "      <td>Y</td>\n",
       "      <td>0</td>\n",
       "      <td>202500.0</td>\n",
       "      <td>406597.5</td>\n",
       "      <td>24700.5</td>\n",
       "      <td>351000.0</td>\n",
       "      <td>Unaccompanied</td>\n",
       "      <td>Working</td>\n",
       "      <td>Secondary / secondary special</td>\n",
       "      <td>Single / not married</td>\n",
       "      <td>House / apartment</td>\n",
       "      <td>0.018801</td>\n",
       "      <td>-9461</td>\n",
       "      <td>-637</td>\n",
       "      <td>-3648.0</td>\n",
       "      <td>-2120</td>\n",
       "      <td>NaN</td>\n",
       "      <td>1</td>\n",
       "      <td>1</td>\n",
       "      <td>0</td>\n",
       "      <td>1</td>\n",
       "      <td>1</td>\n",
       "      <td>0</td>\n",
       "      <td>Laborers</td>\n",
       "      <td>1.0</td>\n",
       "      <td>2</td>\n",
       "      <td>2</td>\n",
       "      <td>WEDNESDAY</td>\n",
       "      <td>10</td>\n",
       "      <td>0</td>\n",
       "      <td>0</td>\n",
       "      <td>0</td>\n",
       "      <td>0</td>\n",
       "      <td>0</td>\n",
       "      <td>0</td>\n",
       "      <td>...</td>\n",
       "      <td>block of flats</td>\n",
       "      <td>0.0149</td>\n",
       "      <td>Stone, brick</td>\n",
       "      <td>No</td>\n",
       "      <td>2.0</td>\n",
       "      <td>2.0</td>\n",
       "      <td>2.0</td>\n",
       "      <td>2.0</td>\n",
       "      <td>-1134.0</td>\n",
       "      <td>0</td>\n",
       "      <td>1</td>\n",
       "      <td>0</td>\n",
       "      <td>0</td>\n",
       "      <td>0</td>\n",
       "      <td>0</td>\n",
       "      <td>0</td>\n",
       "      <td>0</td>\n",
       "      <td>0</td>\n",
       "      <td>0</td>\n",
       "      <td>0</td>\n",
       "      <td>0</td>\n",
       "      <td>0</td>\n",
       "      <td>0</td>\n",
       "      <td>0</td>\n",
       "      <td>0</td>\n",
       "      <td>0</td>\n",
       "      <td>0</td>\n",
       "      <td>0</td>\n",
       "      <td>0</td>\n",
       "      <td>0.0</td>\n",
       "      <td>0.0</td>\n",
       "      <td>0.0</td>\n",
       "      <td>0.0</td>\n",
       "      <td>0.0</td>\n",
       "      <td>1.0</td>\n",
       "      <td>26.0</td>\n",
       "      <td>2.0</td>\n",
       "      <td>0.498036</td>\n",
       "      <td>8.198215</td>\n",
       "      <td>0.576923</td>\n",
       "    </tr>\n",
       "    <tr>\n",
       "      <th>1</th>\n",
       "      <td>100003</td>\n",
       "      <td>0</td>\n",
       "      <td>Cash loans</td>\n",
       "      <td>F</td>\n",
       "      <td>N</td>\n",
       "      <td>N</td>\n",
       "      <td>0</td>\n",
       "      <td>270000.0</td>\n",
       "      <td>1293502.5</td>\n",
       "      <td>35698.5</td>\n",
       "      <td>1129500.0</td>\n",
       "      <td>Family</td>\n",
       "      <td>State servant</td>\n",
       "      <td>Higher education</td>\n",
       "      <td>Married</td>\n",
       "      <td>House / apartment</td>\n",
       "      <td>0.003541</td>\n",
       "      <td>-16765</td>\n",
       "      <td>-1188</td>\n",
       "      <td>-1186.0</td>\n",
       "      <td>-291</td>\n",
       "      <td>NaN</td>\n",
       "      <td>1</td>\n",
       "      <td>1</td>\n",
       "      <td>0</td>\n",
       "      <td>1</td>\n",
       "      <td>1</td>\n",
       "      <td>0</td>\n",
       "      <td>Core staff</td>\n",
       "      <td>2.0</td>\n",
       "      <td>1</td>\n",
       "      <td>1</td>\n",
       "      <td>MONDAY</td>\n",
       "      <td>11</td>\n",
       "      <td>0</td>\n",
       "      <td>0</td>\n",
       "      <td>0</td>\n",
       "      <td>0</td>\n",
       "      <td>0</td>\n",
       "      <td>0</td>\n",
       "      <td>...</td>\n",
       "      <td>block of flats</td>\n",
       "      <td>0.0714</td>\n",
       "      <td>Block</td>\n",
       "      <td>No</td>\n",
       "      <td>1.0</td>\n",
       "      <td>0.0</td>\n",
       "      <td>1.0</td>\n",
       "      <td>0.0</td>\n",
       "      <td>-828.0</td>\n",
       "      <td>0</td>\n",
       "      <td>1</td>\n",
       "      <td>0</td>\n",
       "      <td>0</td>\n",
       "      <td>0</td>\n",
       "      <td>0</td>\n",
       "      <td>0</td>\n",
       "      <td>0</td>\n",
       "      <td>0</td>\n",
       "      <td>0</td>\n",
       "      <td>0</td>\n",
       "      <td>0</td>\n",
       "      <td>0</td>\n",
       "      <td>0</td>\n",
       "      <td>0</td>\n",
       "      <td>0</td>\n",
       "      <td>0</td>\n",
       "      <td>0</td>\n",
       "      <td>0</td>\n",
       "      <td>0</td>\n",
       "      <td>0.0</td>\n",
       "      <td>0.0</td>\n",
       "      <td>0.0</td>\n",
       "      <td>0.0</td>\n",
       "      <td>0.0</td>\n",
       "      <td>0.0</td>\n",
       "      <td>46.0</td>\n",
       "      <td>3.0</td>\n",
       "      <td>0.208736</td>\n",
       "      <td>7.563343</td>\n",
       "      <td>0.239044</td>\n",
       "    </tr>\n",
       "    <tr>\n",
       "      <th>2</th>\n",
       "      <td>100004</td>\n",
       "      <td>0</td>\n",
       "      <td>Revolving loans</td>\n",
       "      <td>M</td>\n",
       "      <td>Y</td>\n",
       "      <td>Y</td>\n",
       "      <td>0</td>\n",
       "      <td>67500.0</td>\n",
       "      <td>135000.0</td>\n",
       "      <td>6750.0</td>\n",
       "      <td>135000.0</td>\n",
       "      <td>Unaccompanied</td>\n",
       "      <td>Working</td>\n",
       "      <td>Secondary / secondary special</td>\n",
       "      <td>Single / not married</td>\n",
       "      <td>House / apartment</td>\n",
       "      <td>0.010032</td>\n",
       "      <td>-19046</td>\n",
       "      <td>-225</td>\n",
       "      <td>-4260.0</td>\n",
       "      <td>-2531</td>\n",
       "      <td>26.0</td>\n",
       "      <td>1</td>\n",
       "      <td>1</td>\n",
       "      <td>1</td>\n",
       "      <td>1</td>\n",
       "      <td>1</td>\n",
       "      <td>0</td>\n",
       "      <td>Laborers</td>\n",
       "      <td>1.0</td>\n",
       "      <td>2</td>\n",
       "      <td>2</td>\n",
       "      <td>MONDAY</td>\n",
       "      <td>9</td>\n",
       "      <td>0</td>\n",
       "      <td>0</td>\n",
       "      <td>0</td>\n",
       "      <td>0</td>\n",
       "      <td>0</td>\n",
       "      <td>0</td>\n",
       "      <td>...</td>\n",
       "      <td>None</td>\n",
       "      <td>NaN</td>\n",
       "      <td>None</td>\n",
       "      <td>None</td>\n",
       "      <td>0.0</td>\n",
       "      <td>0.0</td>\n",
       "      <td>0.0</td>\n",
       "      <td>0.0</td>\n",
       "      <td>-815.0</td>\n",
       "      <td>0</td>\n",
       "      <td>0</td>\n",
       "      <td>0</td>\n",
       "      <td>0</td>\n",
       "      <td>0</td>\n",
       "      <td>0</td>\n",
       "      <td>0</td>\n",
       "      <td>0</td>\n",
       "      <td>0</td>\n",
       "      <td>0</td>\n",
       "      <td>0</td>\n",
       "      <td>0</td>\n",
       "      <td>0</td>\n",
       "      <td>0</td>\n",
       "      <td>0</td>\n",
       "      <td>0</td>\n",
       "      <td>0</td>\n",
       "      <td>0</td>\n",
       "      <td>0</td>\n",
       "      <td>0</td>\n",
       "      <td>0.0</td>\n",
       "      <td>0.0</td>\n",
       "      <td>0.0</td>\n",
       "      <td>0.0</td>\n",
       "      <td>0.0</td>\n",
       "      <td>0.0</td>\n",
       "      <td>52.0</td>\n",
       "      <td>1.0</td>\n",
       "      <td>0.500000</td>\n",
       "      <td>10.000000</td>\n",
       "      <td>0.500000</td>\n",
       "    </tr>\n",
       "    <tr>\n",
       "      <th>3</th>\n",
       "      <td>100006</td>\n",
       "      <td>0</td>\n",
       "      <td>Cash loans</td>\n",
       "      <td>F</td>\n",
       "      <td>N</td>\n",
       "      <td>Y</td>\n",
       "      <td>0</td>\n",
       "      <td>135000.0</td>\n",
       "      <td>312682.5</td>\n",
       "      <td>29686.5</td>\n",
       "      <td>297000.0</td>\n",
       "      <td>Unaccompanied</td>\n",
       "      <td>Working</td>\n",
       "      <td>Secondary / secondary special</td>\n",
       "      <td>Civil marriage</td>\n",
       "      <td>House / apartment</td>\n",
       "      <td>0.008019</td>\n",
       "      <td>-19005</td>\n",
       "      <td>-3039</td>\n",
       "      <td>-9833.0</td>\n",
       "      <td>-2437</td>\n",
       "      <td>NaN</td>\n",
       "      <td>1</td>\n",
       "      <td>1</td>\n",
       "      <td>0</td>\n",
       "      <td>1</td>\n",
       "      <td>0</td>\n",
       "      <td>0</td>\n",
       "      <td>Laborers</td>\n",
       "      <td>2.0</td>\n",
       "      <td>2</td>\n",
       "      <td>2</td>\n",
       "      <td>WEDNESDAY</td>\n",
       "      <td>17</td>\n",
       "      <td>0</td>\n",
       "      <td>0</td>\n",
       "      <td>0</td>\n",
       "      <td>0</td>\n",
       "      <td>0</td>\n",
       "      <td>0</td>\n",
       "      <td>...</td>\n",
       "      <td>None</td>\n",
       "      <td>NaN</td>\n",
       "      <td>None</td>\n",
       "      <td>None</td>\n",
       "      <td>2.0</td>\n",
       "      <td>0.0</td>\n",
       "      <td>2.0</td>\n",
       "      <td>0.0</td>\n",
       "      <td>-617.0</td>\n",
       "      <td>0</td>\n",
       "      <td>1</td>\n",
       "      <td>0</td>\n",
       "      <td>0</td>\n",
       "      <td>0</td>\n",
       "      <td>0</td>\n",
       "      <td>0</td>\n",
       "      <td>0</td>\n",
       "      <td>0</td>\n",
       "      <td>0</td>\n",
       "      <td>0</td>\n",
       "      <td>0</td>\n",
       "      <td>0</td>\n",
       "      <td>0</td>\n",
       "      <td>0</td>\n",
       "      <td>0</td>\n",
       "      <td>0</td>\n",
       "      <td>0</td>\n",
       "      <td>0</td>\n",
       "      <td>0</td>\n",
       "      <td>NaN</td>\n",
       "      <td>NaN</td>\n",
       "      <td>NaN</td>\n",
       "      <td>NaN</td>\n",
       "      <td>NaN</td>\n",
       "      <td>NaN</td>\n",
       "      <td>52.0</td>\n",
       "      <td>8.0</td>\n",
       "      <td>0.431748</td>\n",
       "      <td>4.547522</td>\n",
       "      <td>0.454545</td>\n",
       "    </tr>\n",
       "    <tr>\n",
       "      <th>4</th>\n",
       "      <td>100007</td>\n",
       "      <td>0</td>\n",
       "      <td>Cash loans</td>\n",
       "      <td>M</td>\n",
       "      <td>N</td>\n",
       "      <td>Y</td>\n",
       "      <td>0</td>\n",
       "      <td>121500.0</td>\n",
       "      <td>513000.0</td>\n",
       "      <td>21865.5</td>\n",
       "      <td>513000.0</td>\n",
       "      <td>Unaccompanied</td>\n",
       "      <td>Working</td>\n",
       "      <td>Secondary / secondary special</td>\n",
       "      <td>Single / not married</td>\n",
       "      <td>House / apartment</td>\n",
       "      <td>0.028663</td>\n",
       "      <td>-19932</td>\n",
       "      <td>-3038</td>\n",
       "      <td>-4311.0</td>\n",
       "      <td>-3458</td>\n",
       "      <td>NaN</td>\n",
       "      <td>1</td>\n",
       "      <td>1</td>\n",
       "      <td>0</td>\n",
       "      <td>1</td>\n",
       "      <td>0</td>\n",
       "      <td>0</td>\n",
       "      <td>Core staff</td>\n",
       "      <td>1.0</td>\n",
       "      <td>2</td>\n",
       "      <td>2</td>\n",
       "      <td>THURSDAY</td>\n",
       "      <td>11</td>\n",
       "      <td>0</td>\n",
       "      <td>0</td>\n",
       "      <td>0</td>\n",
       "      <td>0</td>\n",
       "      <td>1</td>\n",
       "      <td>1</td>\n",
       "      <td>...</td>\n",
       "      <td>None</td>\n",
       "      <td>NaN</td>\n",
       "      <td>None</td>\n",
       "      <td>None</td>\n",
       "      <td>0.0</td>\n",
       "      <td>0.0</td>\n",
       "      <td>0.0</td>\n",
       "      <td>0.0</td>\n",
       "      <td>-1106.0</td>\n",
       "      <td>0</td>\n",
       "      <td>0</td>\n",
       "      <td>0</td>\n",
       "      <td>0</td>\n",
       "      <td>0</td>\n",
       "      <td>0</td>\n",
       "      <td>1</td>\n",
       "      <td>0</td>\n",
       "      <td>0</td>\n",
       "      <td>0</td>\n",
       "      <td>0</td>\n",
       "      <td>0</td>\n",
       "      <td>0</td>\n",
       "      <td>0</td>\n",
       "      <td>0</td>\n",
       "      <td>0</td>\n",
       "      <td>0</td>\n",
       "      <td>0</td>\n",
       "      <td>0</td>\n",
       "      <td>0</td>\n",
       "      <td>0.0</td>\n",
       "      <td>0.0</td>\n",
       "      <td>0.0</td>\n",
       "      <td>0.0</td>\n",
       "      <td>0.0</td>\n",
       "      <td>0.0</td>\n",
       "      <td>55.0</td>\n",
       "      <td>8.0</td>\n",
       "      <td>0.236842</td>\n",
       "      <td>5.556699</td>\n",
       "      <td>0.236842</td>\n",
       "    </tr>\n",
       "  </tbody>\n",
       "</table>\n",
       "<p>5 rows × 127 columns</p>\n",
       "</div>"
      ],
      "text/plain": [
       "   SK_ID_CURR  TARGET NAME_CONTRACT_TYPE CODE_GENDER FLAG_OWN_CAR  \\\n",
       "0      100002       1         Cash loans           M            N   \n",
       "1      100003       0         Cash loans           F            N   \n",
       "2      100004       0    Revolving loans           M            Y   \n",
       "3      100006       0         Cash loans           F            N   \n",
       "4      100007       0         Cash loans           M            N   \n",
       "\n",
       "  FLAG_OWN_REALTY  CNT_CHILDREN  AMT_INCOME_TOTAL  AMT_CREDIT  AMT_ANNUITY  \\\n",
       "0               Y             0          202500.0    406597.5      24700.5   \n",
       "1               N             0          270000.0   1293502.5      35698.5   \n",
       "2               Y             0           67500.0    135000.0       6750.0   \n",
       "3               Y             0          135000.0    312682.5      29686.5   \n",
       "4               Y             0          121500.0    513000.0      21865.5   \n",
       "\n",
       "   AMT_GOODS_PRICE NAME_TYPE_SUITE NAME_INCOME_TYPE  \\\n",
       "0         351000.0   Unaccompanied          Working   \n",
       "1        1129500.0          Family    State servant   \n",
       "2         135000.0   Unaccompanied          Working   \n",
       "3         297000.0   Unaccompanied          Working   \n",
       "4         513000.0   Unaccompanied          Working   \n",
       "\n",
       "             NAME_EDUCATION_TYPE    NAME_FAMILY_STATUS  NAME_HOUSING_TYPE  \\\n",
       "0  Secondary / secondary special  Single / not married  House / apartment   \n",
       "1               Higher education               Married  House / apartment   \n",
       "2  Secondary / secondary special  Single / not married  House / apartment   \n",
       "3  Secondary / secondary special        Civil marriage  House / apartment   \n",
       "4  Secondary / secondary special  Single / not married  House / apartment   \n",
       "\n",
       "   REGION_POPULATION_RELATIVE  DAYS_BIRTH  DAYS_EMPLOYED  DAYS_REGISTRATION  \\\n",
       "0                    0.018801       -9461           -637            -3648.0   \n",
       "1                    0.003541      -16765          -1188            -1186.0   \n",
       "2                    0.010032      -19046           -225            -4260.0   \n",
       "3                    0.008019      -19005          -3039            -9833.0   \n",
       "4                    0.028663      -19932          -3038            -4311.0   \n",
       "\n",
       "   DAYS_ID_PUBLISH  OWN_CAR_AGE  FLAG_MOBIL  FLAG_EMP_PHONE  FLAG_WORK_PHONE  \\\n",
       "0            -2120          NaN           1               1                0   \n",
       "1             -291          NaN           1               1                0   \n",
       "2            -2531         26.0           1               1                1   \n",
       "3            -2437          NaN           1               1                0   \n",
       "4            -3458          NaN           1               1                0   \n",
       "\n",
       "   FLAG_CONT_MOBILE  FLAG_PHONE  FLAG_EMAIL OCCUPATION_TYPE  CNT_FAM_MEMBERS  \\\n",
       "0                 1           1           0        Laborers              1.0   \n",
       "1                 1           1           0      Core staff              2.0   \n",
       "2                 1           1           0        Laborers              1.0   \n",
       "3                 1           0           0        Laborers              2.0   \n",
       "4                 1           0           0      Core staff              1.0   \n",
       "\n",
       "   REGION_RATING_CLIENT  REGION_RATING_CLIENT_W_CITY  \\\n",
       "0                     2                            2   \n",
       "1                     1                            1   \n",
       "2                     2                            2   \n",
       "3                     2                            2   \n",
       "4                     2                            2   \n",
       "\n",
       "  WEEKDAY_APPR_PROCESS_START  HOUR_APPR_PROCESS_START  \\\n",
       "0                  WEDNESDAY                       10   \n",
       "1                     MONDAY                       11   \n",
       "2                     MONDAY                        9   \n",
       "3                  WEDNESDAY                       17   \n",
       "4                   THURSDAY                       11   \n",
       "\n",
       "   REG_REGION_NOT_LIVE_REGION  REG_REGION_NOT_WORK_REGION  \\\n",
       "0                           0                           0   \n",
       "1                           0                           0   \n",
       "2                           0                           0   \n",
       "3                           0                           0   \n",
       "4                           0                           0   \n",
       "\n",
       "   LIVE_REGION_NOT_WORK_REGION  REG_CITY_NOT_LIVE_CITY  \\\n",
       "0                            0                       0   \n",
       "1                            0                       0   \n",
       "2                            0                       0   \n",
       "3                            0                       0   \n",
       "4                            0                       0   \n",
       "\n",
       "   REG_CITY_NOT_WORK_CITY  LIVE_CITY_NOT_WORK_CITY  ...  HOUSETYPE_MODE  \\\n",
       "0                       0                        0  ...  block of flats   \n",
       "1                       0                        0  ...  block of flats   \n",
       "2                       0                        0  ...            None   \n",
       "3                       0                        0  ...            None   \n",
       "4                       1                        1  ...            None   \n",
       "\n",
       "   TOTALAREA_MODE  WALLSMATERIAL_MODE  EMERGENCYSTATE_MODE  \\\n",
       "0          0.0149        Stone, brick                   No   \n",
       "1          0.0714               Block                   No   \n",
       "2             NaN                None                 None   \n",
       "3             NaN                None                 None   \n",
       "4             NaN                None                 None   \n",
       "\n",
       "   OBS_30_CNT_SOCIAL_CIRCLE  DEF_30_CNT_SOCIAL_CIRCLE  \\\n",
       "0                       2.0                       2.0   \n",
       "1                       1.0                       0.0   \n",
       "2                       0.0                       0.0   \n",
       "3                       2.0                       0.0   \n",
       "4                       0.0                       0.0   \n",
       "\n",
       "   OBS_60_CNT_SOCIAL_CIRCLE  DEF_60_CNT_SOCIAL_CIRCLE  DAYS_LAST_PHONE_CHANGE  \\\n",
       "0                       2.0                       2.0                 -1134.0   \n",
       "1                       1.0                       0.0                  -828.0   \n",
       "2                       0.0                       0.0                  -815.0   \n",
       "3                       2.0                       0.0                  -617.0   \n",
       "4                       0.0                       0.0                 -1106.0   \n",
       "\n",
       "   FLAG_DOCUMENT_2  FLAG_DOCUMENT_3  FLAG_DOCUMENT_4  FLAG_DOCUMENT_5  \\\n",
       "0                0                1                0                0   \n",
       "1                0                1                0                0   \n",
       "2                0                0                0                0   \n",
       "3                0                1                0                0   \n",
       "4                0                0                0                0   \n",
       "\n",
       "   FLAG_DOCUMENT_6  FLAG_DOCUMENT_7  FLAG_DOCUMENT_8  FLAG_DOCUMENT_9  \\\n",
       "0                0                0                0                0   \n",
       "1                0                0                0                0   \n",
       "2                0                0                0                0   \n",
       "3                0                0                0                0   \n",
       "4                0                0                1                0   \n",
       "\n",
       "   FLAG_DOCUMENT_10  FLAG_DOCUMENT_11  FLAG_DOCUMENT_12  FLAG_DOCUMENT_13  \\\n",
       "0                 0                 0                 0                 0   \n",
       "1                 0                 0                 0                 0   \n",
       "2                 0                 0                 0                 0   \n",
       "3                 0                 0                 0                 0   \n",
       "4                 0                 0                 0                 0   \n",
       "\n",
       "   FLAG_DOCUMENT_14  FLAG_DOCUMENT_15  FLAG_DOCUMENT_16  FLAG_DOCUMENT_17  \\\n",
       "0                 0                 0                 0                 0   \n",
       "1                 0                 0                 0                 0   \n",
       "2                 0                 0                 0                 0   \n",
       "3                 0                 0                 0                 0   \n",
       "4                 0                 0                 0                 0   \n",
       "\n",
       "   FLAG_DOCUMENT_18  FLAG_DOCUMENT_19  FLAG_DOCUMENT_20  FLAG_DOCUMENT_21  \\\n",
       "0                 0                 0                 0                 0   \n",
       "1                 0                 0                 0                 0   \n",
       "2                 0                 0                 0                 0   \n",
       "3                 0                 0                 0                 0   \n",
       "4                 0                 0                 0                 0   \n",
       "\n",
       "   AMT_REQ_CREDIT_BUREAU_HOUR  AMT_REQ_CREDIT_BUREAU_DAY  \\\n",
       "0                         0.0                        0.0   \n",
       "1                         0.0                        0.0   \n",
       "2                         0.0                        0.0   \n",
       "3                         NaN                        NaN   \n",
       "4                         0.0                        0.0   \n",
       "\n",
       "   AMT_REQ_CREDIT_BUREAU_WEEK  AMT_REQ_CREDIT_BUREAU_MON  \\\n",
       "0                         0.0                        0.0   \n",
       "1                         0.0                        0.0   \n",
       "2                         0.0                        0.0   \n",
       "3                         NaN                        NaN   \n",
       "4                         0.0                        0.0   \n",
       "\n",
       "   AMT_REQ_CREDIT_BUREAU_QRT  AMT_REQ_CREDIT_BUREAU_YEAR   AGE  YEAR_WORKING  \\\n",
       "0                        0.0                         1.0  26.0           2.0   \n",
       "1                        0.0                         0.0  46.0           3.0   \n",
       "2                        0.0                         0.0  52.0           1.0   \n",
       "3                        NaN                         NaN  52.0           8.0   \n",
       "4                        0.0                         0.0  55.0           8.0   \n",
       "\n",
       "   inc_ovr_credit  inc_ovr_annuity  inc_ovr_good  \n",
       "0        0.498036         8.198215      0.576923  \n",
       "1        0.208736         7.563343      0.239044  \n",
       "2        0.500000        10.000000      0.500000  \n",
       "3        0.431748         4.547522      0.454545  \n",
       "4        0.236842         5.556699      0.236842  \n",
       "\n",
       "[5 rows x 127 columns]"
      ]
     },
     "execution_count": 17,
     "metadata": {},
     "output_type": "execute_result"
    }
   ],
   "source": [
    "application_train.head()"
   ]
  },
  {
   "cell_type": "code",
   "execution_count": 18,
   "metadata": {},
   "outputs": [
    {
     "data": {
      "text/plain": [
       "(307511, 127)"
      ]
     },
     "execution_count": 18,
     "metadata": {},
     "output_type": "execute_result"
    }
   ],
   "source": [
    "application_train.shape"
   ]
  },
  {
   "cell_type": "markdown",
   "metadata": {},
   "source": [
    "## TS bureau dpd"
   ]
  },
  {
   "cell_type": "code",
   "execution_count": null,
   "metadata": {},
   "outputs": [],
   "source": [
    "df_pcb = bureau[bureau['SK_ID_CURR'].isin(application_train['SK_ID_CURR'].unique())]\n",
    "df_pcb['LxM'] = df_pcb['DAYS_CREDIT']/30.5\n",
    "df_pcb['loan_term'] = df_pcb['AMT_CREDIT_SUM']/df_pcb['AMT_ANNUITY']"
   ]
  },
  {
   "cell_type": "code",
   "execution_count": 19,
   "metadata": {},
   "outputs": [],
   "source": [
    "condition = (df_pcb['CREDIT_DAY_OVERDUE'] <=10) & (df_pcb['CREDIT_DAY_OVERDUE'] >= 1)\n",
    "df_pcb['is_1_10dpd'] = np.where(condition, 1, 0)\n",
    "\n",
    "condition = (df_pcb['CREDIT_DAY_OVERDUE'] <=30) & (df_pcb['CREDIT_DAY_OVERDUE'] >= 10)\n",
    "df_pcb['is_10_30dpd'] = np.where(condition, 1, 0)\n",
    "\n",
    "condition = (df_pcb['CREDIT_DAY_OVERDUE'] > 30)\n",
    "df_pcb['is_gt30dpd'] = np.where(condition, 1, 0)"
   ]
  },
  {
   "cell_type": "code",
   "execution_count": 82,
   "metadata": {},
   "outputs": [],
   "source": [
    "def pcb_dpd(df_pcb):\n",
    "    group_col = ['SK_ID_CURR']\n",
    "    val_col = ['CREDIT_DAY_OVERDUE', 'is_1_10dpd', 'is_10_30dpd', 'is_gt30dpd']\n",
    "    agg_fn = ['max']\n",
    "    LxM = [3,6,9,12,15,24,36, 48,60,72,84]\n",
    "\n",
    "    pcb_dpd_ts = generate_feature_lxm(df_pcb, group_col, val_col, agg_fn, LxM)\n",
    "    return pcb_dpd_ts"
   ]
  },
  {
   "cell_type": "code",
   "execution_count": 83,
   "metadata": {},
   "outputs": [
    {
     "name": "stderr",
     "output_type": "stream",
     "text": [
      "100%|████████████████████████████████████████████████████████████████████████████████████| 4/4 [00:10<00:00,  2.66s/it]\n"
     ]
    }
   ],
   "source": [
    "df_pcb_dpd = pcb_dpd(df_pcb)\n",
    "df_pcb_dpd = df_pcb_dpd.fillna(0).reset_index()"
   ]
  },
  {
   "cell_type": "code",
   "execution_count": 22,
   "metadata": {},
   "outputs": [],
   "source": [
    "df_pcb['active_mths_remain'] = df_pcb[df_pcb['CREDIT_ACTIVE']=='Active']['DAYS_CREDIT_ENDDATE']/30.5\n",
    "cond1 = (df_pcb['active_mths_remain']<0)\n",
    "df_pcb['active_mths_remain'] = np.where(cond1, 0, df_pcb['active_mths_remain'])  \n",
    "df_pcb['active_mths_remain'] = df_pcb['active_mths_remain'].fillna(0)"
   ]
  },
  {
   "cell_type": "code",
   "execution_count": 23,
   "metadata": {},
   "outputs": [],
   "source": [
    "df_pcb['card_utl_rate'] = df_pcb['AMT_CREDIT_SUM_DEBT']/df_pcb['AMT_CREDIT_SUM_LIMIT']\n",
    "df_pcb['card_utl_rate'] = np.where((df_pcb['CREDIT_TYPE']=='Credit card') & (df_pcb['card_utl_rate']!=np.inf),df_pcb['card_utl_rate'],np.nan)"
   ]
  },
  {
   "cell_type": "code",
   "execution_count": 80,
   "metadata": {},
   "outputs": [
    {
     "data": {
      "text/html": [
       "<div>\n",
       "<style scoped>\n",
       "    .dataframe tbody tr th:only-of-type {\n",
       "        vertical-align: middle;\n",
       "    }\n",
       "\n",
       "    .dataframe tbody tr th {\n",
       "        vertical-align: top;\n",
       "    }\n",
       "\n",
       "    .dataframe thead th {\n",
       "        text-align: right;\n",
       "    }\n",
       "</style>\n",
       "<table border=\"1\" class=\"dataframe\">\n",
       "  <thead>\n",
       "    <tr style=\"text-align: right;\">\n",
       "      <th></th>\n",
       "      <th>SK_ID_CURR</th>\n",
       "      <th>SK_ID_BUREAU</th>\n",
       "      <th>CREDIT_ACTIVE</th>\n",
       "      <th>CREDIT_CURRENCY</th>\n",
       "      <th>DAYS_CREDIT</th>\n",
       "      <th>CREDIT_DAY_OVERDUE</th>\n",
       "      <th>DAYS_CREDIT_ENDDATE</th>\n",
       "      <th>DAYS_ENDDATE_FACT</th>\n",
       "      <th>AMT_CREDIT_MAX_OVERDUE</th>\n",
       "      <th>CNT_CREDIT_PROLONG</th>\n",
       "      <th>AMT_CREDIT_SUM</th>\n",
       "      <th>AMT_CREDIT_SUM_DEBT</th>\n",
       "      <th>AMT_CREDIT_SUM_LIMIT</th>\n",
       "      <th>AMT_CREDIT_SUM_OVERDUE</th>\n",
       "      <th>CREDIT_TYPE</th>\n",
       "      <th>DAYS_CREDIT_UPDATE</th>\n",
       "      <th>AMT_ANNUITY</th>\n",
       "      <th>LxM</th>\n",
       "      <th>loan_term</th>\n",
       "      <th>is_1_10dpd</th>\n",
       "      <th>is_10_30dpd</th>\n",
       "      <th>is_gt30dpd</th>\n",
       "      <th>active_mths_remain</th>\n",
       "      <th>card_utl_rate</th>\n",
       "    </tr>\n",
       "  </thead>\n",
       "  <tbody>\n",
       "    <tr>\n",
       "      <th>0</th>\n",
       "      <td>215354</td>\n",
       "      <td>5714462</td>\n",
       "      <td>Closed</td>\n",
       "      <td>currency 1</td>\n",
       "      <td>-497</td>\n",
       "      <td>0</td>\n",
       "      <td>-153.0</td>\n",
       "      <td>-153.0</td>\n",
       "      <td>NaN</td>\n",
       "      <td>0</td>\n",
       "      <td>91323.0</td>\n",
       "      <td>0.0</td>\n",
       "      <td>NaN</td>\n",
       "      <td>0.0</td>\n",
       "      <td>Consumer credit</td>\n",
       "      <td>-131</td>\n",
       "      <td>NaN</td>\n",
       "      <td>-16.295082</td>\n",
       "      <td>NaN</td>\n",
       "      <td>0</td>\n",
       "      <td>0</td>\n",
       "      <td>0</td>\n",
       "      <td>0.000000</td>\n",
       "      <td>NaN</td>\n",
       "    </tr>\n",
       "    <tr>\n",
       "      <th>1</th>\n",
       "      <td>215354</td>\n",
       "      <td>5714463</td>\n",
       "      <td>Active</td>\n",
       "      <td>currency 1</td>\n",
       "      <td>-208</td>\n",
       "      <td>0</td>\n",
       "      <td>1075.0</td>\n",
       "      <td>NaN</td>\n",
       "      <td>NaN</td>\n",
       "      <td>0</td>\n",
       "      <td>225000.0</td>\n",
       "      <td>171342.0</td>\n",
       "      <td>NaN</td>\n",
       "      <td>0.0</td>\n",
       "      <td>Credit card</td>\n",
       "      <td>-20</td>\n",
       "      <td>NaN</td>\n",
       "      <td>-6.819672</td>\n",
       "      <td>NaN</td>\n",
       "      <td>0</td>\n",
       "      <td>0</td>\n",
       "      <td>0</td>\n",
       "      <td>35.245902</td>\n",
       "      <td>NaN</td>\n",
       "    </tr>\n",
       "    <tr>\n",
       "      <th>2</th>\n",
       "      <td>215354</td>\n",
       "      <td>5714464</td>\n",
       "      <td>Active</td>\n",
       "      <td>currency 1</td>\n",
       "      <td>-203</td>\n",
       "      <td>0</td>\n",
       "      <td>528.0</td>\n",
       "      <td>NaN</td>\n",
       "      <td>NaN</td>\n",
       "      <td>0</td>\n",
       "      <td>464323.5</td>\n",
       "      <td>NaN</td>\n",
       "      <td>NaN</td>\n",
       "      <td>0.0</td>\n",
       "      <td>Consumer credit</td>\n",
       "      <td>-16</td>\n",
       "      <td>NaN</td>\n",
       "      <td>-6.655738</td>\n",
       "      <td>NaN</td>\n",
       "      <td>0</td>\n",
       "      <td>0</td>\n",
       "      <td>0</td>\n",
       "      <td>17.311475</td>\n",
       "      <td>NaN</td>\n",
       "    </tr>\n",
       "    <tr>\n",
       "      <th>3</th>\n",
       "      <td>215354</td>\n",
       "      <td>5714465</td>\n",
       "      <td>Active</td>\n",
       "      <td>currency 1</td>\n",
       "      <td>-203</td>\n",
       "      <td>0</td>\n",
       "      <td>NaN</td>\n",
       "      <td>NaN</td>\n",
       "      <td>NaN</td>\n",
       "      <td>0</td>\n",
       "      <td>90000.0</td>\n",
       "      <td>NaN</td>\n",
       "      <td>NaN</td>\n",
       "      <td>0.0</td>\n",
       "      <td>Credit card</td>\n",
       "      <td>-16</td>\n",
       "      <td>NaN</td>\n",
       "      <td>-6.655738</td>\n",
       "      <td>NaN</td>\n",
       "      <td>0</td>\n",
       "      <td>0</td>\n",
       "      <td>0</td>\n",
       "      <td>0.000000</td>\n",
       "      <td>NaN</td>\n",
       "    </tr>\n",
       "    <tr>\n",
       "      <th>4</th>\n",
       "      <td>215354</td>\n",
       "      <td>5714466</td>\n",
       "      <td>Active</td>\n",
       "      <td>currency 1</td>\n",
       "      <td>-629</td>\n",
       "      <td>0</td>\n",
       "      <td>1197.0</td>\n",
       "      <td>NaN</td>\n",
       "      <td>77674.5</td>\n",
       "      <td>0</td>\n",
       "      <td>2700000.0</td>\n",
       "      <td>NaN</td>\n",
       "      <td>NaN</td>\n",
       "      <td>0.0</td>\n",
       "      <td>Consumer credit</td>\n",
       "      <td>-21</td>\n",
       "      <td>NaN</td>\n",
       "      <td>-20.622951</td>\n",
       "      <td>NaN</td>\n",
       "      <td>0</td>\n",
       "      <td>0</td>\n",
       "      <td>0</td>\n",
       "      <td>39.245902</td>\n",
       "      <td>NaN</td>\n",
       "    </tr>\n",
       "  </tbody>\n",
       "</table>\n",
       "</div>"
      ],
      "text/plain": [
       "   SK_ID_CURR  SK_ID_BUREAU CREDIT_ACTIVE CREDIT_CURRENCY  DAYS_CREDIT  \\\n",
       "0      215354       5714462        Closed      currency 1         -497   \n",
       "1      215354       5714463        Active      currency 1         -208   \n",
       "2      215354       5714464        Active      currency 1         -203   \n",
       "3      215354       5714465        Active      currency 1         -203   \n",
       "4      215354       5714466        Active      currency 1         -629   \n",
       "\n",
       "   CREDIT_DAY_OVERDUE  DAYS_CREDIT_ENDDATE  DAYS_ENDDATE_FACT  \\\n",
       "0                   0               -153.0             -153.0   \n",
       "1                   0               1075.0                NaN   \n",
       "2                   0                528.0                NaN   \n",
       "3                   0                  NaN                NaN   \n",
       "4                   0               1197.0                NaN   \n",
       "\n",
       "   AMT_CREDIT_MAX_OVERDUE  CNT_CREDIT_PROLONG  AMT_CREDIT_SUM  \\\n",
       "0                     NaN                   0         91323.0   \n",
       "1                     NaN                   0        225000.0   \n",
       "2                     NaN                   0        464323.5   \n",
       "3                     NaN                   0         90000.0   \n",
       "4                 77674.5                   0       2700000.0   \n",
       "\n",
       "   AMT_CREDIT_SUM_DEBT  AMT_CREDIT_SUM_LIMIT  AMT_CREDIT_SUM_OVERDUE  \\\n",
       "0                  0.0                   NaN                     0.0   \n",
       "1             171342.0                   NaN                     0.0   \n",
       "2                  NaN                   NaN                     0.0   \n",
       "3                  NaN                   NaN                     0.0   \n",
       "4                  NaN                   NaN                     0.0   \n",
       "\n",
       "       CREDIT_TYPE  DAYS_CREDIT_UPDATE  AMT_ANNUITY        LxM  loan_term  \\\n",
       "0  Consumer credit                -131          NaN -16.295082        NaN   \n",
       "1      Credit card                 -20          NaN  -6.819672        NaN   \n",
       "2  Consumer credit                 -16          NaN  -6.655738        NaN   \n",
       "3      Credit card                 -16          NaN  -6.655738        NaN   \n",
       "4  Consumer credit                 -21          NaN -20.622951        NaN   \n",
       "\n",
       "   is_1_10dpd  is_10_30dpd  is_gt30dpd  active_mths_remain  card_utl_rate  \n",
       "0           0            0           0            0.000000            NaN  \n",
       "1           0            0           0           35.245902            NaN  \n",
       "2           0            0           0           17.311475            NaN  \n",
       "3           0            0           0            0.000000            NaN  \n",
       "4           0            0           0           39.245902            NaN  "
      ]
     },
     "execution_count": 80,
     "metadata": {},
     "output_type": "execute_result"
    }
   ],
   "source": [
    "df_pcb.head()"
   ]
  },
  {
   "cell_type": "code",
   "execution_count": 84,
   "metadata": {},
   "outputs": [],
   "source": [
    "def pcb_credit_info1(df_pcb):\n",
    "    group_col = ['SK_ID_CURR']\n",
    "    val_col = ['active_mths_remain', 'card_utl_rate']\n",
    "    agg_fn = ['mean', 'max']\n",
    "    LxM = [3,6,9,12,15,24,36, 48,60,72,84]\n",
    "\n",
    "    ts = generate_feature_lxm(df_pcb, group_col, val_col, agg_fn, LxM)\n",
    "    return ts"
   ]
  },
  {
   "cell_type": "code",
   "execution_count": 87,
   "metadata": {},
   "outputs": [
    {
     "name": "stderr",
     "output_type": "stream",
     "text": [
      "100%|████████████████████████████████████████████████████████████████████████████████████| 2/2 [00:05<00:00,  2.88s/it]\n"
     ]
    }
   ],
   "source": [
    "df_pcb_cr1 = pcb_credit_info1(df_pcb)\n",
    "df_pcb_cr1 = df_pcb_cr1.reset_index()"
   ]
  },
  {
   "cell_type": "code",
   "execution_count": null,
   "metadata": {},
   "outputs": [],
   "source": []
  },
  {
   "cell_type": "code",
   "execution_count": 89,
   "metadata": {},
   "outputs": [
    {
     "data": {
      "text/html": [
       "<div>\n",
       "<style scoped>\n",
       "    .dataframe tbody tr th:only-of-type {\n",
       "        vertical-align: middle;\n",
       "    }\n",
       "\n",
       "    .dataframe tbody tr th {\n",
       "        vertical-align: top;\n",
       "    }\n",
       "\n",
       "    .dataframe thead th {\n",
       "        text-align: right;\n",
       "    }\n",
       "</style>\n",
       "<table border=\"1\" class=\"dataframe\">\n",
       "  <thead>\n",
       "    <tr style=\"text-align: right;\">\n",
       "      <th></th>\n",
       "      <th>SK_ID_CURR</th>\n",
       "      <th>CREDIT_DAY_OVERDUE_max_l3m</th>\n",
       "      <th>CREDIT_DAY_OVERDUE_max_l6m</th>\n",
       "      <th>CREDIT_DAY_OVERDUE_max_l9m</th>\n",
       "      <th>CREDIT_DAY_OVERDUE_max_l12m</th>\n",
       "      <th>CREDIT_DAY_OVERDUE_max_l15m</th>\n",
       "      <th>CREDIT_DAY_OVERDUE_max_l24m</th>\n",
       "      <th>CREDIT_DAY_OVERDUE_max_l36m</th>\n",
       "      <th>CREDIT_DAY_OVERDUE_max_l48m</th>\n",
       "      <th>CREDIT_DAY_OVERDUE_max_l60m</th>\n",
       "      <th>CREDIT_DAY_OVERDUE_max_l72m</th>\n",
       "      <th>CREDIT_DAY_OVERDUE_max_l84m</th>\n",
       "      <th>is_1_10dpd_max_l3m</th>\n",
       "      <th>is_1_10dpd_max_l6m</th>\n",
       "      <th>is_1_10dpd_max_l9m</th>\n",
       "      <th>is_1_10dpd_max_l12m</th>\n",
       "      <th>is_1_10dpd_max_l15m</th>\n",
       "      <th>is_1_10dpd_max_l24m</th>\n",
       "      <th>is_1_10dpd_max_l36m</th>\n",
       "      <th>is_1_10dpd_max_l48m</th>\n",
       "      <th>is_1_10dpd_max_l60m</th>\n",
       "      <th>is_1_10dpd_max_l72m</th>\n",
       "      <th>is_1_10dpd_max_l84m</th>\n",
       "      <th>is_10_30dpd_max_l3m</th>\n",
       "      <th>is_10_30dpd_max_l6m</th>\n",
       "      <th>is_10_30dpd_max_l9m</th>\n",
       "      <th>is_10_30dpd_max_l12m</th>\n",
       "      <th>is_10_30dpd_max_l15m</th>\n",
       "      <th>is_10_30dpd_max_l24m</th>\n",
       "      <th>is_10_30dpd_max_l36m</th>\n",
       "      <th>is_10_30dpd_max_l48m</th>\n",
       "      <th>is_10_30dpd_max_l60m</th>\n",
       "      <th>is_10_30dpd_max_l72m</th>\n",
       "      <th>is_10_30dpd_max_l84m</th>\n",
       "      <th>is_gt30dpd_max_l3m</th>\n",
       "      <th>is_gt30dpd_max_l6m</th>\n",
       "      <th>is_gt30dpd_max_l9m</th>\n",
       "      <th>is_gt30dpd_max_l12m</th>\n",
       "      <th>is_gt30dpd_max_l15m</th>\n",
       "      <th>is_gt30dpd_max_l24m</th>\n",
       "      <th>is_gt30dpd_max_l36m</th>\n",
       "      <th>is_gt30dpd_max_l48m</th>\n",
       "      <th>is_gt30dpd_max_l60m</th>\n",
       "      <th>is_gt30dpd_max_l72m</th>\n",
       "      <th>is_gt30dpd_max_l84m</th>\n",
       "    </tr>\n",
       "  </thead>\n",
       "  <tbody>\n",
       "    <tr>\n",
       "      <th>0</th>\n",
       "      <td>100008</td>\n",
       "      <td>0.0</td>\n",
       "      <td>0.0</td>\n",
       "      <td>0.0</td>\n",
       "      <td>0.0</td>\n",
       "      <td>0.0</td>\n",
       "      <td>0.0</td>\n",
       "      <td>0.0</td>\n",
       "      <td>0.0</td>\n",
       "      <td>0.0</td>\n",
       "      <td>0.0</td>\n",
       "      <td>0</td>\n",
       "      <td>0.0</td>\n",
       "      <td>0.0</td>\n",
       "      <td>0.0</td>\n",
       "      <td>0.0</td>\n",
       "      <td>0.0</td>\n",
       "      <td>0.0</td>\n",
       "      <td>0.0</td>\n",
       "      <td>0.0</td>\n",
       "      <td>0.0</td>\n",
       "      <td>0.0</td>\n",
       "      <td>0</td>\n",
       "      <td>0.0</td>\n",
       "      <td>0.0</td>\n",
       "      <td>0.0</td>\n",
       "      <td>0.0</td>\n",
       "      <td>0.0</td>\n",
       "      <td>0.0</td>\n",
       "      <td>0.0</td>\n",
       "      <td>0.0</td>\n",
       "      <td>0.0</td>\n",
       "      <td>0.0</td>\n",
       "      <td>0</td>\n",
       "      <td>0.0</td>\n",
       "      <td>0.0</td>\n",
       "      <td>0.0</td>\n",
       "      <td>0.0</td>\n",
       "      <td>0.0</td>\n",
       "      <td>0.0</td>\n",
       "      <td>0.0</td>\n",
       "      <td>0.0</td>\n",
       "      <td>0.0</td>\n",
       "      <td>0.0</td>\n",
       "      <td>0</td>\n",
       "    </tr>\n",
       "    <tr>\n",
       "      <th>1</th>\n",
       "      <td>100020</td>\n",
       "      <td>0.0</td>\n",
       "      <td>0.0</td>\n",
       "      <td>0.0</td>\n",
       "      <td>0.0</td>\n",
       "      <td>0.0</td>\n",
       "      <td>0.0</td>\n",
       "      <td>0.0</td>\n",
       "      <td>0.0</td>\n",
       "      <td>0.0</td>\n",
       "      <td>0.0</td>\n",
       "      <td>0</td>\n",
       "      <td>0.0</td>\n",
       "      <td>0.0</td>\n",
       "      <td>0.0</td>\n",
       "      <td>0.0</td>\n",
       "      <td>0.0</td>\n",
       "      <td>0.0</td>\n",
       "      <td>0.0</td>\n",
       "      <td>0.0</td>\n",
       "      <td>0.0</td>\n",
       "      <td>0.0</td>\n",
       "      <td>0</td>\n",
       "      <td>0.0</td>\n",
       "      <td>0.0</td>\n",
       "      <td>0.0</td>\n",
       "      <td>0.0</td>\n",
       "      <td>0.0</td>\n",
       "      <td>0.0</td>\n",
       "      <td>0.0</td>\n",
       "      <td>0.0</td>\n",
       "      <td>0.0</td>\n",
       "      <td>0.0</td>\n",
       "      <td>0</td>\n",
       "      <td>0.0</td>\n",
       "      <td>0.0</td>\n",
       "      <td>0.0</td>\n",
       "      <td>0.0</td>\n",
       "      <td>0.0</td>\n",
       "      <td>0.0</td>\n",
       "      <td>0.0</td>\n",
       "      <td>0.0</td>\n",
       "      <td>0.0</td>\n",
       "      <td>0.0</td>\n",
       "      <td>0</td>\n",
       "    </tr>\n",
       "    <tr>\n",
       "      <th>2</th>\n",
       "      <td>100031</td>\n",
       "      <td>0.0</td>\n",
       "      <td>0.0</td>\n",
       "      <td>0.0</td>\n",
       "      <td>0.0</td>\n",
       "      <td>0.0</td>\n",
       "      <td>0.0</td>\n",
       "      <td>0.0</td>\n",
       "      <td>0.0</td>\n",
       "      <td>0.0</td>\n",
       "      <td>0.0</td>\n",
       "      <td>0</td>\n",
       "      <td>0.0</td>\n",
       "      <td>0.0</td>\n",
       "      <td>0.0</td>\n",
       "      <td>0.0</td>\n",
       "      <td>0.0</td>\n",
       "      <td>0.0</td>\n",
       "      <td>0.0</td>\n",
       "      <td>0.0</td>\n",
       "      <td>0.0</td>\n",
       "      <td>0.0</td>\n",
       "      <td>0</td>\n",
       "      <td>0.0</td>\n",
       "      <td>0.0</td>\n",
       "      <td>0.0</td>\n",
       "      <td>0.0</td>\n",
       "      <td>0.0</td>\n",
       "      <td>0.0</td>\n",
       "      <td>0.0</td>\n",
       "      <td>0.0</td>\n",
       "      <td>0.0</td>\n",
       "      <td>0.0</td>\n",
       "      <td>0</td>\n",
       "      <td>0.0</td>\n",
       "      <td>0.0</td>\n",
       "      <td>0.0</td>\n",
       "      <td>0.0</td>\n",
       "      <td>0.0</td>\n",
       "      <td>0.0</td>\n",
       "      <td>0.0</td>\n",
       "      <td>0.0</td>\n",
       "      <td>0.0</td>\n",
       "      <td>0.0</td>\n",
       "      <td>0</td>\n",
       "    </tr>\n",
       "    <tr>\n",
       "      <th>3</th>\n",
       "      <td>100039</td>\n",
       "      <td>0.0</td>\n",
       "      <td>0.0</td>\n",
       "      <td>0.0</td>\n",
       "      <td>0.0</td>\n",
       "      <td>0.0</td>\n",
       "      <td>0.0</td>\n",
       "      <td>0.0</td>\n",
       "      <td>0.0</td>\n",
       "      <td>0.0</td>\n",
       "      <td>0.0</td>\n",
       "      <td>0</td>\n",
       "      <td>0.0</td>\n",
       "      <td>0.0</td>\n",
       "      <td>0.0</td>\n",
       "      <td>0.0</td>\n",
       "      <td>0.0</td>\n",
       "      <td>0.0</td>\n",
       "      <td>0.0</td>\n",
       "      <td>0.0</td>\n",
       "      <td>0.0</td>\n",
       "      <td>0.0</td>\n",
       "      <td>0</td>\n",
       "      <td>0.0</td>\n",
       "      <td>0.0</td>\n",
       "      <td>0.0</td>\n",
       "      <td>0.0</td>\n",
       "      <td>0.0</td>\n",
       "      <td>0.0</td>\n",
       "      <td>0.0</td>\n",
       "      <td>0.0</td>\n",
       "      <td>0.0</td>\n",
       "      <td>0.0</td>\n",
       "      <td>0</td>\n",
       "      <td>0.0</td>\n",
       "      <td>0.0</td>\n",
       "      <td>0.0</td>\n",
       "      <td>0.0</td>\n",
       "      <td>0.0</td>\n",
       "      <td>0.0</td>\n",
       "      <td>0.0</td>\n",
       "      <td>0.0</td>\n",
       "      <td>0.0</td>\n",
       "      <td>0.0</td>\n",
       "      <td>0</td>\n",
       "    </tr>\n",
       "    <tr>\n",
       "      <th>4</th>\n",
       "      <td>100041</td>\n",
       "      <td>0.0</td>\n",
       "      <td>0.0</td>\n",
       "      <td>0.0</td>\n",
       "      <td>0.0</td>\n",
       "      <td>0.0</td>\n",
       "      <td>0.0</td>\n",
       "      <td>0.0</td>\n",
       "      <td>0.0</td>\n",
       "      <td>0.0</td>\n",
       "      <td>0.0</td>\n",
       "      <td>0</td>\n",
       "      <td>0.0</td>\n",
       "      <td>0.0</td>\n",
       "      <td>0.0</td>\n",
       "      <td>0.0</td>\n",
       "      <td>0.0</td>\n",
       "      <td>0.0</td>\n",
       "      <td>0.0</td>\n",
       "      <td>0.0</td>\n",
       "      <td>0.0</td>\n",
       "      <td>0.0</td>\n",
       "      <td>0</td>\n",
       "      <td>0.0</td>\n",
       "      <td>0.0</td>\n",
       "      <td>0.0</td>\n",
       "      <td>0.0</td>\n",
       "      <td>0.0</td>\n",
       "      <td>0.0</td>\n",
       "      <td>0.0</td>\n",
       "      <td>0.0</td>\n",
       "      <td>0.0</td>\n",
       "      <td>0.0</td>\n",
       "      <td>0</td>\n",
       "      <td>0.0</td>\n",
       "      <td>0.0</td>\n",
       "      <td>0.0</td>\n",
       "      <td>0.0</td>\n",
       "      <td>0.0</td>\n",
       "      <td>0.0</td>\n",
       "      <td>0.0</td>\n",
       "      <td>0.0</td>\n",
       "      <td>0.0</td>\n",
       "      <td>0.0</td>\n",
       "      <td>0</td>\n",
       "    </tr>\n",
       "  </tbody>\n",
       "</table>\n",
       "</div>"
      ],
      "text/plain": [
       "   SK_ID_CURR  CREDIT_DAY_OVERDUE_max_l3m  CREDIT_DAY_OVERDUE_max_l6m  \\\n",
       "0      100008                         0.0                         0.0   \n",
       "1      100020                         0.0                         0.0   \n",
       "2      100031                         0.0                         0.0   \n",
       "3      100039                         0.0                         0.0   \n",
       "4      100041                         0.0                         0.0   \n",
       "\n",
       "   CREDIT_DAY_OVERDUE_max_l9m  CREDIT_DAY_OVERDUE_max_l12m  \\\n",
       "0                         0.0                          0.0   \n",
       "1                         0.0                          0.0   \n",
       "2                         0.0                          0.0   \n",
       "3                         0.0                          0.0   \n",
       "4                         0.0                          0.0   \n",
       "\n",
       "   CREDIT_DAY_OVERDUE_max_l15m  CREDIT_DAY_OVERDUE_max_l24m  \\\n",
       "0                          0.0                          0.0   \n",
       "1                          0.0                          0.0   \n",
       "2                          0.0                          0.0   \n",
       "3                          0.0                          0.0   \n",
       "4                          0.0                          0.0   \n",
       "\n",
       "   CREDIT_DAY_OVERDUE_max_l36m  CREDIT_DAY_OVERDUE_max_l48m  \\\n",
       "0                          0.0                          0.0   \n",
       "1                          0.0                          0.0   \n",
       "2                          0.0                          0.0   \n",
       "3                          0.0                          0.0   \n",
       "4                          0.0                          0.0   \n",
       "\n",
       "   CREDIT_DAY_OVERDUE_max_l60m  CREDIT_DAY_OVERDUE_max_l72m  \\\n",
       "0                          0.0                          0.0   \n",
       "1                          0.0                          0.0   \n",
       "2                          0.0                          0.0   \n",
       "3                          0.0                          0.0   \n",
       "4                          0.0                          0.0   \n",
       "\n",
       "   CREDIT_DAY_OVERDUE_max_l84m  is_1_10dpd_max_l3m  is_1_10dpd_max_l6m  \\\n",
       "0                            0                 0.0                 0.0   \n",
       "1                            0                 0.0                 0.0   \n",
       "2                            0                 0.0                 0.0   \n",
       "3                            0                 0.0                 0.0   \n",
       "4                            0                 0.0                 0.0   \n",
       "\n",
       "   is_1_10dpd_max_l9m  is_1_10dpd_max_l12m  is_1_10dpd_max_l15m  \\\n",
       "0                 0.0                  0.0                  0.0   \n",
       "1                 0.0                  0.0                  0.0   \n",
       "2                 0.0                  0.0                  0.0   \n",
       "3                 0.0                  0.0                  0.0   \n",
       "4                 0.0                  0.0                  0.0   \n",
       "\n",
       "   is_1_10dpd_max_l24m  is_1_10dpd_max_l36m  is_1_10dpd_max_l48m  \\\n",
       "0                  0.0                  0.0                  0.0   \n",
       "1                  0.0                  0.0                  0.0   \n",
       "2                  0.0                  0.0                  0.0   \n",
       "3                  0.0                  0.0                  0.0   \n",
       "4                  0.0                  0.0                  0.0   \n",
       "\n",
       "   is_1_10dpd_max_l60m  is_1_10dpd_max_l72m  is_1_10dpd_max_l84m  \\\n",
       "0                  0.0                  0.0                    0   \n",
       "1                  0.0                  0.0                    0   \n",
       "2                  0.0                  0.0                    0   \n",
       "3                  0.0                  0.0                    0   \n",
       "4                  0.0                  0.0                    0   \n",
       "\n",
       "   is_10_30dpd_max_l3m  is_10_30dpd_max_l6m  is_10_30dpd_max_l9m  \\\n",
       "0                  0.0                  0.0                  0.0   \n",
       "1                  0.0                  0.0                  0.0   \n",
       "2                  0.0                  0.0                  0.0   \n",
       "3                  0.0                  0.0                  0.0   \n",
       "4                  0.0                  0.0                  0.0   \n",
       "\n",
       "   is_10_30dpd_max_l12m  is_10_30dpd_max_l15m  is_10_30dpd_max_l24m  \\\n",
       "0                   0.0                   0.0                   0.0   \n",
       "1                   0.0                   0.0                   0.0   \n",
       "2                   0.0                   0.0                   0.0   \n",
       "3                   0.0                   0.0                   0.0   \n",
       "4                   0.0                   0.0                   0.0   \n",
       "\n",
       "   is_10_30dpd_max_l36m  is_10_30dpd_max_l48m  is_10_30dpd_max_l60m  \\\n",
       "0                   0.0                   0.0                   0.0   \n",
       "1                   0.0                   0.0                   0.0   \n",
       "2                   0.0                   0.0                   0.0   \n",
       "3                   0.0                   0.0                   0.0   \n",
       "4                   0.0                   0.0                   0.0   \n",
       "\n",
       "   is_10_30dpd_max_l72m  is_10_30dpd_max_l84m  is_gt30dpd_max_l3m  \\\n",
       "0                   0.0                     0                 0.0   \n",
       "1                   0.0                     0                 0.0   \n",
       "2                   0.0                     0                 0.0   \n",
       "3                   0.0                     0                 0.0   \n",
       "4                   0.0                     0                 0.0   \n",
       "\n",
       "   is_gt30dpd_max_l6m  is_gt30dpd_max_l9m  is_gt30dpd_max_l12m  \\\n",
       "0                 0.0                 0.0                  0.0   \n",
       "1                 0.0                 0.0                  0.0   \n",
       "2                 0.0                 0.0                  0.0   \n",
       "3                 0.0                 0.0                  0.0   \n",
       "4                 0.0                 0.0                  0.0   \n",
       "\n",
       "   is_gt30dpd_max_l15m  is_gt30dpd_max_l24m  is_gt30dpd_max_l36m  \\\n",
       "0                  0.0                  0.0                  0.0   \n",
       "1                  0.0                  0.0                  0.0   \n",
       "2                  0.0                  0.0                  0.0   \n",
       "3                  0.0                  0.0                  0.0   \n",
       "4                  0.0                  0.0                  0.0   \n",
       "\n",
       "   is_gt30dpd_max_l48m  is_gt30dpd_max_l60m  is_gt30dpd_max_l72m  \\\n",
       "0                  0.0                  0.0                  0.0   \n",
       "1                  0.0                  0.0                  0.0   \n",
       "2                  0.0                  0.0                  0.0   \n",
       "3                  0.0                  0.0                  0.0   \n",
       "4                  0.0                  0.0                  0.0   \n",
       "\n",
       "   is_gt30dpd_max_l84m  \n",
       "0                    0  \n",
       "1                    0  \n",
       "2                    0  \n",
       "3                    0  \n",
       "4                    0  "
      ]
     },
     "execution_count": 89,
     "metadata": {},
     "output_type": "execute_result"
    }
   ],
   "source": [
    "df_pcb_dpd.head()"
   ]
  },
  {
   "cell_type": "code",
   "execution_count": 88,
   "metadata": {},
   "outputs": [
    {
     "data": {
      "text/html": [
       "<div>\n",
       "<style scoped>\n",
       "    .dataframe tbody tr th:only-of-type {\n",
       "        vertical-align: middle;\n",
       "    }\n",
       "\n",
       "    .dataframe tbody tr th {\n",
       "        vertical-align: top;\n",
       "    }\n",
       "\n",
       "    .dataframe thead th {\n",
       "        text-align: right;\n",
       "    }\n",
       "</style>\n",
       "<table border=\"1\" class=\"dataframe\">\n",
       "  <thead>\n",
       "    <tr style=\"text-align: right;\">\n",
       "      <th></th>\n",
       "      <th>SK_ID_CURR</th>\n",
       "      <th>active_mths_remain_mean_l3m</th>\n",
       "      <th>active_mths_remain_max_l3m</th>\n",
       "      <th>active_mths_remain_mean_l6m</th>\n",
       "      <th>active_mths_remain_max_l6m</th>\n",
       "      <th>active_mths_remain_mean_l9m</th>\n",
       "      <th>active_mths_remain_max_l9m</th>\n",
       "      <th>active_mths_remain_mean_l12m</th>\n",
       "      <th>active_mths_remain_max_l12m</th>\n",
       "      <th>active_mths_remain_mean_l15m</th>\n",
       "      <th>active_mths_remain_max_l15m</th>\n",
       "      <th>active_mths_remain_mean_l24m</th>\n",
       "      <th>active_mths_remain_max_l24m</th>\n",
       "      <th>active_mths_remain_mean_l36m</th>\n",
       "      <th>active_mths_remain_max_l36m</th>\n",
       "      <th>active_mths_remain_mean_l48m</th>\n",
       "      <th>active_mths_remain_max_l48m</th>\n",
       "      <th>active_mths_remain_mean_l60m</th>\n",
       "      <th>active_mths_remain_max_l60m</th>\n",
       "      <th>active_mths_remain_mean_l72m</th>\n",
       "      <th>active_mths_remain_max_l72m</th>\n",
       "      <th>active_mths_remain_mean_l84m</th>\n",
       "      <th>active_mths_remain_max_l84m</th>\n",
       "      <th>card_utl_rate_mean_l3m</th>\n",
       "      <th>card_utl_rate_max_l3m</th>\n",
       "      <th>card_utl_rate_mean_l6m</th>\n",
       "      <th>card_utl_rate_max_l6m</th>\n",
       "      <th>card_utl_rate_mean_l9m</th>\n",
       "      <th>card_utl_rate_max_l9m</th>\n",
       "      <th>card_utl_rate_mean_l12m</th>\n",
       "      <th>card_utl_rate_max_l12m</th>\n",
       "      <th>card_utl_rate_mean_l15m</th>\n",
       "      <th>card_utl_rate_max_l15m</th>\n",
       "      <th>card_utl_rate_mean_l24m</th>\n",
       "      <th>card_utl_rate_max_l24m</th>\n",
       "      <th>card_utl_rate_mean_l36m</th>\n",
       "      <th>card_utl_rate_max_l36m</th>\n",
       "      <th>card_utl_rate_mean_l48m</th>\n",
       "      <th>card_utl_rate_max_l48m</th>\n",
       "      <th>card_utl_rate_mean_l60m</th>\n",
       "      <th>card_utl_rate_max_l60m</th>\n",
       "      <th>card_utl_rate_mean_l72m</th>\n",
       "      <th>card_utl_rate_max_l72m</th>\n",
       "      <th>card_utl_rate_mean_l84m</th>\n",
       "      <th>card_utl_rate_max_l84m</th>\n",
       "    </tr>\n",
       "  </thead>\n",
       "  <tbody>\n",
       "    <tr>\n",
       "      <th>0</th>\n",
       "      <td>100008</td>\n",
       "      <td>15.442623</td>\n",
       "      <td>15.442623</td>\n",
       "      <td>15.442623</td>\n",
       "      <td>15.442623</td>\n",
       "      <td>15.442623</td>\n",
       "      <td>15.442623</td>\n",
       "      <td>15.442623</td>\n",
       "      <td>15.442623</td>\n",
       "      <td>15.442623</td>\n",
       "      <td>15.442623</td>\n",
       "      <td>15.442623</td>\n",
       "      <td>15.442623</td>\n",
       "      <td>5.147541</td>\n",
       "      <td>15.442623</td>\n",
       "      <td>5.147541</td>\n",
       "      <td>15.442623</td>\n",
       "      <td>5.147541</td>\n",
       "      <td>15.442623</td>\n",
       "      <td>5.147541</td>\n",
       "      <td>15.442623</td>\n",
       "      <td>5.147541</td>\n",
       "      <td>15.442623</td>\n",
       "      <td>NaN</td>\n",
       "      <td>NaN</td>\n",
       "      <td>NaN</td>\n",
       "      <td>NaN</td>\n",
       "      <td>NaN</td>\n",
       "      <td>NaN</td>\n",
       "      <td>NaN</td>\n",
       "      <td>NaN</td>\n",
       "      <td>NaN</td>\n",
       "      <td>NaN</td>\n",
       "      <td>NaN</td>\n",
       "      <td>NaN</td>\n",
       "      <td>NaN</td>\n",
       "      <td>NaN</td>\n",
       "      <td>NaN</td>\n",
       "      <td>NaN</td>\n",
       "      <td>NaN</td>\n",
       "      <td>NaN</td>\n",
       "      <td>NaN</td>\n",
       "      <td>NaN</td>\n",
       "      <td>NaN</td>\n",
       "      <td>NaN</td>\n",
       "    </tr>\n",
       "    <tr>\n",
       "      <th>1</th>\n",
       "      <td>100020</td>\n",
       "      <td>9.081967</td>\n",
       "      <td>9.081967</td>\n",
       "      <td>4.672131</td>\n",
       "      <td>9.081967</td>\n",
       "      <td>4.672131</td>\n",
       "      <td>9.081967</td>\n",
       "      <td>3.114754</td>\n",
       "      <td>9.081967</td>\n",
       "      <td>3.114754</td>\n",
       "      <td>9.081967</td>\n",
       "      <td>2.336066</td>\n",
       "      <td>9.081967</td>\n",
       "      <td>2.336066</td>\n",
       "      <td>9.081967</td>\n",
       "      <td>2.336066</td>\n",
       "      <td>9.081967</td>\n",
       "      <td>2.336066</td>\n",
       "      <td>9.081967</td>\n",
       "      <td>2.336066</td>\n",
       "      <td>9.081967</td>\n",
       "      <td>2.336066</td>\n",
       "      <td>9.081967</td>\n",
       "      <td>NaN</td>\n",
       "      <td>NaN</td>\n",
       "      <td>NaN</td>\n",
       "      <td>NaN</td>\n",
       "      <td>NaN</td>\n",
       "      <td>NaN</td>\n",
       "      <td>NaN</td>\n",
       "      <td>NaN</td>\n",
       "      <td>NaN</td>\n",
       "      <td>NaN</td>\n",
       "      <td>NaN</td>\n",
       "      <td>NaN</td>\n",
       "      <td>NaN</td>\n",
       "      <td>NaN</td>\n",
       "      <td>NaN</td>\n",
       "      <td>NaN</td>\n",
       "      <td>NaN</td>\n",
       "      <td>NaN</td>\n",
       "      <td>NaN</td>\n",
       "      <td>NaN</td>\n",
       "      <td>NaN</td>\n",
       "      <td>NaN</td>\n",
       "    </tr>\n",
       "    <tr>\n",
       "      <th>2</th>\n",
       "      <td>100031</td>\n",
       "      <td>33.475410</td>\n",
       "      <td>33.475410</td>\n",
       "      <td>16.737705</td>\n",
       "      <td>33.475410</td>\n",
       "      <td>11.158470</td>\n",
       "      <td>33.475410</td>\n",
       "      <td>11.158470</td>\n",
       "      <td>33.475410</td>\n",
       "      <td>11.158470</td>\n",
       "      <td>33.475410</td>\n",
       "      <td>8.368852</td>\n",
       "      <td>33.475410</td>\n",
       "      <td>5.579235</td>\n",
       "      <td>33.475410</td>\n",
       "      <td>4.782201</td>\n",
       "      <td>33.475410</td>\n",
       "      <td>4.782201</td>\n",
       "      <td>33.475410</td>\n",
       "      <td>4.782201</td>\n",
       "      <td>33.475410</td>\n",
       "      <td>4.782201</td>\n",
       "      <td>33.475410</td>\n",
       "      <td>NaN</td>\n",
       "      <td>NaN</td>\n",
       "      <td>NaN</td>\n",
       "      <td>NaN</td>\n",
       "      <td>NaN</td>\n",
       "      <td>NaN</td>\n",
       "      <td>NaN</td>\n",
       "      <td>NaN</td>\n",
       "      <td>NaN</td>\n",
       "      <td>NaN</td>\n",
       "      <td>NaN</td>\n",
       "      <td>NaN</td>\n",
       "      <td>NaN</td>\n",
       "      <td>NaN</td>\n",
       "      <td>NaN</td>\n",
       "      <td>NaN</td>\n",
       "      <td>NaN</td>\n",
       "      <td>NaN</td>\n",
       "      <td>NaN</td>\n",
       "      <td>NaN</td>\n",
       "      <td>NaN</td>\n",
       "      <td>NaN</td>\n",
       "    </tr>\n",
       "    <tr>\n",
       "      <th>3</th>\n",
       "      <td>100039</td>\n",
       "      <td>33.114754</td>\n",
       "      <td>45.213115</td>\n",
       "      <td>33.114754</td>\n",
       "      <td>45.213115</td>\n",
       "      <td>33.114754</td>\n",
       "      <td>45.213115</td>\n",
       "      <td>33.114754</td>\n",
       "      <td>45.213115</td>\n",
       "      <td>37.125683</td>\n",
       "      <td>45.213115</td>\n",
       "      <td>18.562842</td>\n",
       "      <td>45.213115</td>\n",
       "      <td>15.911007</td>\n",
       "      <td>45.213115</td>\n",
       "      <td>13.922131</td>\n",
       "      <td>45.213115</td>\n",
       "      <td>12.375228</td>\n",
       "      <td>45.213115</td>\n",
       "      <td>12.375228</td>\n",
       "      <td>45.213115</td>\n",
       "      <td>12.375228</td>\n",
       "      <td>45.213115</td>\n",
       "      <td>NaN</td>\n",
       "      <td>NaN</td>\n",
       "      <td>NaN</td>\n",
       "      <td>NaN</td>\n",
       "      <td>NaN</td>\n",
       "      <td>NaN</td>\n",
       "      <td>NaN</td>\n",
       "      <td>NaN</td>\n",
       "      <td>NaN</td>\n",
       "      <td>NaN</td>\n",
       "      <td>NaN</td>\n",
       "      <td>NaN</td>\n",
       "      <td>NaN</td>\n",
       "      <td>NaN</td>\n",
       "      <td>NaN</td>\n",
       "      <td>NaN</td>\n",
       "      <td>NaN</td>\n",
       "      <td>NaN</td>\n",
       "      <td>NaN</td>\n",
       "      <td>NaN</td>\n",
       "      <td>NaN</td>\n",
       "      <td>NaN</td>\n",
       "    </tr>\n",
       "    <tr>\n",
       "      <th>4</th>\n",
       "      <td>100041</td>\n",
       "      <td>0.000000</td>\n",
       "      <td>0.000000</td>\n",
       "      <td>0.000000</td>\n",
       "      <td>0.000000</td>\n",
       "      <td>0.000000</td>\n",
       "      <td>0.000000</td>\n",
       "      <td>0.000000</td>\n",
       "      <td>0.000000</td>\n",
       "      <td>0.000000</td>\n",
       "      <td>0.000000</td>\n",
       "      <td>0.000000</td>\n",
       "      <td>0.000000</td>\n",
       "      <td>0.000000</td>\n",
       "      <td>0.000000</td>\n",
       "      <td>0.000000</td>\n",
       "      <td>0.000000</td>\n",
       "      <td>0.000000</td>\n",
       "      <td>0.000000</td>\n",
       "      <td>0.000000</td>\n",
       "      <td>0.000000</td>\n",
       "      <td>0.000000</td>\n",
       "      <td>0.000000</td>\n",
       "      <td>NaN</td>\n",
       "      <td>NaN</td>\n",
       "      <td>NaN</td>\n",
       "      <td>NaN</td>\n",
       "      <td>NaN</td>\n",
       "      <td>NaN</td>\n",
       "      <td>NaN</td>\n",
       "      <td>NaN</td>\n",
       "      <td>NaN</td>\n",
       "      <td>NaN</td>\n",
       "      <td>NaN</td>\n",
       "      <td>NaN</td>\n",
       "      <td>NaN</td>\n",
       "      <td>NaN</td>\n",
       "      <td>NaN</td>\n",
       "      <td>NaN</td>\n",
       "      <td>NaN</td>\n",
       "      <td>NaN</td>\n",
       "      <td>NaN</td>\n",
       "      <td>NaN</td>\n",
       "      <td>NaN</td>\n",
       "      <td>NaN</td>\n",
       "    </tr>\n",
       "  </tbody>\n",
       "</table>\n",
       "</div>"
      ],
      "text/plain": [
       "   SK_ID_CURR  active_mths_remain_mean_l3m  active_mths_remain_max_l3m  \\\n",
       "0      100008                    15.442623                   15.442623   \n",
       "1      100020                     9.081967                    9.081967   \n",
       "2      100031                    33.475410                   33.475410   \n",
       "3      100039                    33.114754                   45.213115   \n",
       "4      100041                     0.000000                    0.000000   \n",
       "\n",
       "   active_mths_remain_mean_l6m  active_mths_remain_max_l6m  \\\n",
       "0                    15.442623                   15.442623   \n",
       "1                     4.672131                    9.081967   \n",
       "2                    16.737705                   33.475410   \n",
       "3                    33.114754                   45.213115   \n",
       "4                     0.000000                    0.000000   \n",
       "\n",
       "   active_mths_remain_mean_l9m  active_mths_remain_max_l9m  \\\n",
       "0                    15.442623                   15.442623   \n",
       "1                     4.672131                    9.081967   \n",
       "2                    11.158470                   33.475410   \n",
       "3                    33.114754                   45.213115   \n",
       "4                     0.000000                    0.000000   \n",
       "\n",
       "   active_mths_remain_mean_l12m  active_mths_remain_max_l12m  \\\n",
       "0                     15.442623                    15.442623   \n",
       "1                      3.114754                     9.081967   \n",
       "2                     11.158470                    33.475410   \n",
       "3                     33.114754                    45.213115   \n",
       "4                      0.000000                     0.000000   \n",
       "\n",
       "   active_mths_remain_mean_l15m  active_mths_remain_max_l15m  \\\n",
       "0                     15.442623                    15.442623   \n",
       "1                      3.114754                     9.081967   \n",
       "2                     11.158470                    33.475410   \n",
       "3                     37.125683                    45.213115   \n",
       "4                      0.000000                     0.000000   \n",
       "\n",
       "   active_mths_remain_mean_l24m  active_mths_remain_max_l24m  \\\n",
       "0                     15.442623                    15.442623   \n",
       "1                      2.336066                     9.081967   \n",
       "2                      8.368852                    33.475410   \n",
       "3                     18.562842                    45.213115   \n",
       "4                      0.000000                     0.000000   \n",
       "\n",
       "   active_mths_remain_mean_l36m  active_mths_remain_max_l36m  \\\n",
       "0                      5.147541                    15.442623   \n",
       "1                      2.336066                     9.081967   \n",
       "2                      5.579235                    33.475410   \n",
       "3                     15.911007                    45.213115   \n",
       "4                      0.000000                     0.000000   \n",
       "\n",
       "   active_mths_remain_mean_l48m  active_mths_remain_max_l48m  \\\n",
       "0                      5.147541                    15.442623   \n",
       "1                      2.336066                     9.081967   \n",
       "2                      4.782201                    33.475410   \n",
       "3                     13.922131                    45.213115   \n",
       "4                      0.000000                     0.000000   \n",
       "\n",
       "   active_mths_remain_mean_l60m  active_mths_remain_max_l60m  \\\n",
       "0                      5.147541                    15.442623   \n",
       "1                      2.336066                     9.081967   \n",
       "2                      4.782201                    33.475410   \n",
       "3                     12.375228                    45.213115   \n",
       "4                      0.000000                     0.000000   \n",
       "\n",
       "   active_mths_remain_mean_l72m  active_mths_remain_max_l72m  \\\n",
       "0                      5.147541                    15.442623   \n",
       "1                      2.336066                     9.081967   \n",
       "2                      4.782201                    33.475410   \n",
       "3                     12.375228                    45.213115   \n",
       "4                      0.000000                     0.000000   \n",
       "\n",
       "   active_mths_remain_mean_l84m  active_mths_remain_max_l84m  \\\n",
       "0                      5.147541                    15.442623   \n",
       "1                      2.336066                     9.081967   \n",
       "2                      4.782201                    33.475410   \n",
       "3                     12.375228                    45.213115   \n",
       "4                      0.000000                     0.000000   \n",
       "\n",
       "   card_utl_rate_mean_l3m  card_utl_rate_max_l3m  card_utl_rate_mean_l6m  \\\n",
       "0                     NaN                    NaN                     NaN   \n",
       "1                     NaN                    NaN                     NaN   \n",
       "2                     NaN                    NaN                     NaN   \n",
       "3                     NaN                    NaN                     NaN   \n",
       "4                     NaN                    NaN                     NaN   \n",
       "\n",
       "   card_utl_rate_max_l6m  card_utl_rate_mean_l9m  card_utl_rate_max_l9m  \\\n",
       "0                    NaN                     NaN                    NaN   \n",
       "1                    NaN                     NaN                    NaN   \n",
       "2                    NaN                     NaN                    NaN   \n",
       "3                    NaN                     NaN                    NaN   \n",
       "4                    NaN                     NaN                    NaN   \n",
       "\n",
       "   card_utl_rate_mean_l12m  card_utl_rate_max_l12m  card_utl_rate_mean_l15m  \\\n",
       "0                      NaN                     NaN                      NaN   \n",
       "1                      NaN                     NaN                      NaN   \n",
       "2                      NaN                     NaN                      NaN   \n",
       "3                      NaN                     NaN                      NaN   \n",
       "4                      NaN                     NaN                      NaN   \n",
       "\n",
       "   card_utl_rate_max_l15m  card_utl_rate_mean_l24m  card_utl_rate_max_l24m  \\\n",
       "0                     NaN                      NaN                     NaN   \n",
       "1                     NaN                      NaN                     NaN   \n",
       "2                     NaN                      NaN                     NaN   \n",
       "3                     NaN                      NaN                     NaN   \n",
       "4                     NaN                      NaN                     NaN   \n",
       "\n",
       "   card_utl_rate_mean_l36m  card_utl_rate_max_l36m  card_utl_rate_mean_l48m  \\\n",
       "0                      NaN                     NaN                      NaN   \n",
       "1                      NaN                     NaN                      NaN   \n",
       "2                      NaN                     NaN                      NaN   \n",
       "3                      NaN                     NaN                      NaN   \n",
       "4                      NaN                     NaN                      NaN   \n",
       "\n",
       "   card_utl_rate_max_l48m  card_utl_rate_mean_l60m  card_utl_rate_max_l60m  \\\n",
       "0                     NaN                      NaN                     NaN   \n",
       "1                     NaN                      NaN                     NaN   \n",
       "2                     NaN                      NaN                     NaN   \n",
       "3                     NaN                      NaN                     NaN   \n",
       "4                     NaN                      NaN                     NaN   \n",
       "\n",
       "   card_utl_rate_mean_l72m  card_utl_rate_max_l72m  card_utl_rate_mean_l84m  \\\n",
       "0                      NaN                     NaN                      NaN   \n",
       "1                      NaN                     NaN                      NaN   \n",
       "2                      NaN                     NaN                      NaN   \n",
       "3                      NaN                     NaN                      NaN   \n",
       "4                      NaN                     NaN                      NaN   \n",
       "\n",
       "   card_utl_rate_max_l84m  \n",
       "0                     NaN  \n",
       "1                     NaN  \n",
       "2                     NaN  \n",
       "3                     NaN  \n",
       "4                     NaN  "
      ]
     },
     "execution_count": 88,
     "metadata": {},
     "output_type": "execute_result"
    }
   ],
   "source": [
    "df_pcb_cr1.head()"
   ]
  },
  {
   "cell_type": "code",
   "execution_count": 101,
   "metadata": {},
   "outputs": [],
   "source": [
    "df_pcb_cr = pd.merge(df_pcb_dpd, df_pcb_cr1, how='outer', on='SK_ID_CURR')"
   ]
  },
  {
   "cell_type": "code",
   "execution_count": 105,
   "metadata": {},
   "outputs": [],
   "source": [
    "filter_pcb_cr = distinct_count(df_pcb_cr)\n",
    "drop_most_count = list(set(filter_pcb_cr[filter_pcb_cr['most_count']>=0.9]['col'])-set(id_col))\n",
    "drop_most_null = list(set(filter_pcb_cr[filter_pcb_cr['null_count']>=0.8]['col'])-set(id_col))\n",
    "to_drop = drop_most_count+drop_most_null"
   ]
  },
  {
   "cell_type": "code",
   "execution_count": 106,
   "metadata": {},
   "outputs": [
    {
     "data": {
      "text/plain": [
       "68"
      ]
     },
     "execution_count": 106,
     "metadata": {},
     "output_type": "execute_result"
    }
   ],
   "source": [
    "len(set(to_drop))"
   ]
  },
  {
   "cell_type": "code",
   "execution_count": 107,
   "metadata": {},
   "outputs": [
    {
     "data": {
      "text/plain": [
       "89"
      ]
     },
     "execution_count": 107,
     "metadata": {},
     "output_type": "execute_result"
    }
   ],
   "source": [
    "len(df_pcb_cr.columns)"
   ]
  },
  {
   "cell_type": "code",
   "execution_count": 109,
   "metadata": {},
   "outputs": [],
   "source": [
    "df_pcb_cr_fn = df_pcb_cr[list(set(df_pcb_cr.columns) - set(to_drop))]"
   ]
  },
  {
   "cell_type": "code",
   "execution_count": 113,
   "metadata": {},
   "outputs": [
    {
     "name": "stdout",
     "output_type": "stream",
     "text": [
      "<class 'pandas.core.frame.DataFrame'>\n",
      "RangeIndex: 260395 entries, 0 to 260394\n",
      "Data columns (total 21 columns):\n",
      " #   Column                        Non-Null Count   Dtype  \n",
      "---  ------                        --------------   -----  \n",
      " 0   active_mths_remain_mean_l84m  260395 non-null  float64\n",
      " 1   active_mths_remain_max_l6m    85376 non-null   float64\n",
      " 2   active_mths_remain_max_l36m   233851 non-null  float64\n",
      " 3   active_mths_remain_max_l60m   252846 non-null  float64\n",
      " 4   active_mths_remain_mean_l72m  255801 non-null  float64\n",
      " 5   active_mths_remain_mean_l6m   85376 non-null   float64\n",
      " 6   SK_ID_CURR                    260395 non-null  int64  \n",
      " 7   active_mths_remain_mean_l60m  252846 non-null  float64\n",
      " 8   active_mths_remain_max_l9m    123094 non-null  float64\n",
      " 9   active_mths_remain_max_l12m   152038 non-null  float64\n",
      " 10  active_mths_remain_mean_l9m   123094 non-null  float64\n",
      " 11  active_mths_remain_mean_l36m  233851 non-null  float64\n",
      " 12  active_mths_remain_mean_l15m  173090 non-null  float64\n",
      " 13  active_mths_remain_max_l15m   173090 non-null  float64\n",
      " 14  active_mths_remain_max_l48m   246552 non-null  float64\n",
      " 15  active_mths_remain_max_l84m   260395 non-null  float64\n",
      " 16  active_mths_remain_max_l24m   209796 non-null  float64\n",
      " 17  active_mths_remain_mean_l12m  152038 non-null  float64\n",
      " 18  active_mths_remain_mean_l48m  246552 non-null  float64\n",
      " 19  active_mths_remain_mean_l24m  209796 non-null  float64\n",
      " 20  active_mths_remain_max_l72m   255801 non-null  float64\n",
      "dtypes: float64(20), int64(1)\n",
      "memory usage: 41.7 MB\n"
     ]
    }
   ],
   "source": [
    "df_pcb_cr_fn.info(verbose=True, show_counts=True)"
   ]
  },
  {
   "cell_type": "code",
   "execution_count": 114,
   "metadata": {},
   "outputs": [],
   "source": [
    "df_pcb_cr_fn.to_parquet(r'data/df_pcb_cr_fn.parquet')"
   ]
  },
  {
   "cell_type": "code",
   "execution_count": null,
   "metadata": {},
   "outputs": [],
   "source": []
  },
  {
   "cell_type": "markdown",
   "metadata": {},
   "source": [
    "## TS bureau contract_level - type, count status"
   ]
  },
  {
   "cell_type": "code",
   "execution_count": 24,
   "metadata": {},
   "outputs": [],
   "source": [
    "df_ts = pd.merge(df_pcb[['SK_ID_CURR', 'SK_ID_BUREAU', 'CREDIT_TYPE', 'AMT_CREDIT_SUM', 'AMT_CREDIT_SUM_LIMIT']], \n",
    "         bureau_balance, \n",
    "         how='inner', \n",
    "         on='SK_ID_BUREAU')"
   ]
  },
  {
   "cell_type": "code",
   "execution_count": 25,
   "metadata": {},
   "outputs": [],
   "source": [
    "def replace_prod(row, prod_group):\n",
    "    if row in (prod_group):\n",
    "        return row\n",
    "    else:\n",
    "        return 'Others'"
   ]
  },
  {
   "cell_type": "code",
   "execution_count": 26,
   "metadata": {},
   "outputs": [],
   "source": [
    "prod_group = ['Consumer credit', 'Credit card', 'Car loan', 'Mortgage']\n",
    "df_ts['CREDIT_TYPE'] = df_ts['CREDIT_TYPE'].apply(lambda row: replace_prod(row, prod_group))\n",
    "df_ts['STATUS'].fillna('X', inplace=True)"
   ]
  },
  {
   "cell_type": "code",
   "execution_count": 27,
   "metadata": {},
   "outputs": [
    {
     "data": {
      "text/plain": [
       "CREDIT_TYPE\n",
       "Consumer credit    11127735\n",
       "Credit card         3069223\n",
       "Car loan             276291\n",
       "Mortgage             153327\n",
       "Others                75036\n",
       "Name: count, dtype: int64"
      ]
     },
     "execution_count": 27,
     "metadata": {},
     "output_type": "execute_result"
    }
   ],
   "source": [
    "df_ts['CREDIT_TYPE'].value_counts()"
   ]
  },
  {
   "cell_type": "code",
   "execution_count": 28,
   "metadata": {},
   "outputs": [
    {
     "data": {
      "text/plain": [
       "STATUS\n",
       "C    7027575\n",
       "0    4615684\n",
       "X    2837039\n",
       "1     155330\n",
       "5      40528\n",
       "2      15583\n",
       "3       5976\n",
       "4       3897\n",
       "Name: count, dtype: int64"
      ]
     },
     "execution_count": 28,
     "metadata": {},
     "output_type": "execute_result"
    }
   ],
   "source": [
    "df_ts['STATUS'].value_counts(dropna=False)"
   ]
  },
  {
   "cell_type": "code",
   "execution_count": 29,
   "metadata": {},
   "outputs": [],
   "source": [
    "df_ts['is_active'] = np.where(df_ts['STATUS'].isin(['X', 'C']), 0, 1)\n",
    "df_ts['ln_grp'] = np.where(df_ts['STATUS'].isin(['X', 'C']), 0, df_ts['STATUS'])\n",
    "df_ts['ln_grp'] = df_ts['ln_grp'].astype(int)\n",
    "df_ts['LxM'] = df_ts['MONTHS_BALANCE']"
   ]
  },
  {
   "cell_type": "code",
   "execution_count": 30,
   "metadata": {},
   "outputs": [],
   "source": [
    "# check bureau_id trong LxM có tồn tại process_month active\n",
    "# đếm distinct bureau_id theo loại HĐ - sum theo ID"
   ]
  },
  {
   "cell_type": "code",
   "execution_count": 35,
   "metadata": {},
   "outputs": [
    {
     "name": "stderr",
     "output_type": "stream",
     "text": [
      "100%|████████████████████████████████████████████████████████████████████████████████████| 1/1 [00:01<00:00,  1.62s/it]\n"
     ]
    }
   ],
   "source": [
    "group_col = ['SK_ID_CURR']\n",
    "val_col = ['ln_grp']\n",
    "agg_fn = ['max']\n",
    "LxM = [3,6,9]\n",
    "df_ln_grp = generate_feature_lxm(df_ts,\n",
    "                    group_col=group_col,\n",
    "                    val_col=val_col,\n",
    "                    agg_fn=agg_fn,\n",
    "                    LxM=LxM)\n",
    "\n",
    "df_ln_grp = df_ln_grp.reset_index()"
   ]
  },
  {
   "cell_type": "code",
   "execution_count": 118,
   "metadata": {},
   "outputs": [],
   "source": [
    "df_ln_grp.to_parquet(r'data/df_ln_grp.parquet')"
   ]
  },
  {
   "cell_type": "markdown",
   "metadata": {},
   "source": [
    "## TS bureau contract_level - count, amt per type"
   ]
  },
  {
   "cell_type": "code",
   "execution_count": 67,
   "metadata": {},
   "outputs": [],
   "source": [
    "from functools import reduce\n",
    "\n",
    "def cal_ts(ts_ft, pref, lxm_counts):\n",
    "    prod_ts = ts_ft[['SK_ID_CURR', 'SK_ID_BUREAU', 'CREDIT_TYPE', 'AMT_CREDIT_SUM', 'AMT_CREDIT_SUM_LIMIT']].groupby('SK_ID_BUREAU').max().reset_index()\n",
    "        \n",
    "    count_type = pd.pivot_table(prod_ts, values='SK_ID_BUREAU', index=['SK_ID_CURR'], columns=['CREDIT_TYPE'], aggfunc=\"count\").reset_index()\n",
    "    count_type.columns = ['SK_ID_CURR'] + ['no_'+ i for i in count_type.columns[1:]+\"_\"+pref+\"_\" + f'l{lxm_counts}m']\n",
    "    \n",
    "    amt_type = pd.pivot_table(prod_ts, values=['AMT_CREDIT_SUM', 'AMT_CREDIT_SUM_LIMIT'], index=['SK_ID_CURR'], columns=['CREDIT_TYPE'], aggfunc=\"sum\").reset_index()\n",
    "    col_to_rename = {'AMT_CREDIT_SUM':'amt', \n",
    "                             'AMT_CREDIT_SUM_LIMIT':'lmt',\n",
    "                            'Car loan':'car',\n",
    "                            'Consumer credit':'cons',\n",
    "                            'Credit card':'cc',\n",
    "                            'Mortgage':'mg',\n",
    "                            'Others':'others'}\n",
    "    amt_type = amt_type.rename(columns=col_to_rename)\n",
    "    amt_type.columns = ['SK_ID_CURR'] + [i[0]+\"_\"+i[1]+\"_\"+pref+\"_\" f'l{lxm_counts}m' for i in amt_type.columns[1:]]\n",
    "    ts_result = pd.merge(amt_type, count_type, how='outer', on=['SK_ID_CURR'])\n",
    "\n",
    "    all_count_col = [i for i in ts_result.columns if 'no_' in i]\n",
    "    all_amt_col = [i for i in ts_result.columns if 'amt_' in i]\n",
    "\n",
    "    ts_result['no_tot_'+pref+'_'+ f'l{lxm_counts}m'] = ts_result[all_count_col].sum(axis=1)\n",
    "    ts_result['amt_tot_'+pref+'_'+ f'l{lxm_counts}m'] = ts_result[all_amt_col].sum(axis=1)\n",
    "    return ts_result\n",
    "\n",
    "def gen_ts(df_ts, lxm_list = [3,6,9]):\n",
    "    \"\"\"\n",
    "    \"\"\"\n",
    "    result_cal_ts = []\n",
    "    ft_status1 = df_ts['is_active']==1\n",
    "    ft_status2 = df_ts['is_active']==0\n",
    "    ft_status3 = df_ts['is_active'].isin([0,1])\n",
    "\n",
    "    ft_status_lst = [ft_status1, ft_status2, ft_status3]\n",
    "    status_prefix = ['active', 'closed', 'all']\n",
    "    for lxm_counts in tqdm(lxm_list):\n",
    "        for ft_status, pref in zip(ft_status_lst, status_prefix):\n",
    "            ft_lxm = (df_ts['LxM']*-1) <= lxm_counts\n",
    "            ts_ft = df_ts[ft_status & ft_lxm]\n",
    "            result_cal_ts.append(cal_ts(ts_ft, pref, lxm_counts))  \n",
    "    conso = reduce(lambda  left,right: pd.merge(left, right, on=group_col, how='outer'), result_cal_ts)\n",
    "    return conso"
   ]
  },
  {
   "cell_type": "code",
   "execution_count": 54,
   "metadata": {},
   "outputs": [
    {
     "name": "stderr",
     "output_type": "stream",
     "text": [
      "100%|████████████████████████████████████████████████████████████████████████████████████| 8/8 [12:32<00:00, 94.03s/it]\n"
     ]
    }
   ],
   "source": [
    "df_ts_amt_n_count = gen_ts(df_ts, lxm_list=[3,6,9,12,18,26,36,48])"
   ]
  },
  {
   "cell_type": "code",
   "execution_count": 134,
   "metadata": {},
   "outputs": [],
   "source": [
    "filter1ts = distinct_count(df_ts_amt_n_count)\n",
    "drop_most_count = list(set(filter1ts[filter1ts['most_count']>=0.8]['col'])-set(id_col))\n",
    "drop_most_null = list(set(filter1ts[filter1ts['null_count']>=0.6]['col'])-set(id_col))\n",
    "to_drop = drop_most_count+drop_most_null\n",
    "to_drop = list(set(to_drop))"
   ]
  },
  {
   "cell_type": "code",
   "execution_count": 135,
   "metadata": {
    "scrolled": true
   },
   "outputs": [
    {
     "data": {
      "text/plain": [
       "233"
      ]
     },
     "execution_count": 135,
     "metadata": {},
     "output_type": "execute_result"
    }
   ],
   "source": [
    "len(to_drop)"
   ]
  },
  {
   "cell_type": "code",
   "execution_count": 142,
   "metadata": {},
   "outputs": [],
   "source": [
    "to_keep = list(set(df_ts_amt_n_count.columns) - set(to_drop))"
   ]
  },
  {
   "cell_type": "code",
   "execution_count": 148,
   "metadata": {},
   "outputs": [
    {
     "data": {
      "text/plain": [
       "176"
      ]
     },
     "execution_count": 148,
     "metadata": {},
     "output_type": "execute_result"
    }
   ],
   "source": [
    "len(set(to_keep))"
   ]
  },
  {
   "cell_type": "code",
   "execution_count": 152,
   "metadata": {},
   "outputs": [],
   "source": [
    "df_ts_amt_n_count_fn = df_ts_amt_n_count[list(set(['SK_ID_CURR']+to_keep))]"
   ]
  },
  {
   "cell_type": "code",
   "execution_count": 153,
   "metadata": {},
   "outputs": [],
   "source": [
    "df_ts_amt_n_count_fn.to_parquet(r'data/df_ts_amt_n_count_fn.parquet')"
   ]
  },
  {
   "cell_type": "code",
   "execution_count": null,
   "metadata": {},
   "outputs": [],
   "source": []
  },
  {
   "cell_type": "code",
   "execution_count": null,
   "metadata": {},
   "outputs": [],
   "source": []
  },
  {
   "cell_type": "code",
   "execution_count": null,
   "metadata": {},
   "outputs": [],
   "source": []
  },
  {
   "cell_type": "code",
   "execution_count": null,
   "metadata": {},
   "outputs": [],
   "source": []
  },
  {
   "cell_type": "code",
   "execution_count": null,
   "metadata": {},
   "outputs": [],
   "source": []
  },
  {
   "cell_type": "markdown",
   "metadata": {},
   "source": [
    "# 3. Feature selection\n",
    "\n",
    "Univarite <br>\n",
    "Multivariate"
   ]
  },
  {
   "cell_type": "code",
   "execution_count": null,
   "metadata": {
    "execution": {
     "iopub.status.busy": "2024-08-18T03:28:41.707368Z",
     "iopub.status.idle": "2024-08-18T03:28:41.707900Z",
     "shell.execute_reply": "2024-08-18T03:28:41.707644Z",
     "shell.execute_reply.started": "2024-08-18T03:28:41.707619Z"
    }
   },
   "outputs": [],
   "source": [
    "\n",
    "\"\"\"\n",
    "> Filter selection.\n",
    "> Marginal IV.\n",
    "> Stepwise regression for model selecton.\n",
    "> Resursive feature selection.\n",
    "> \n",
    "> For ML?\n",
    "\"\"\""
   ]
  },
  {
   "cell_type": "code",
   "execution_count": null,
   "metadata": {},
   "outputs": [],
   "source": []
  },
  {
   "cell_type": "code",
   "execution_count": null,
   "metadata": {},
   "outputs": [],
   "source": []
  },
  {
   "cell_type": "markdown",
   "metadata": {},
   "source": [
    "# 4. Model training"
   ]
  },
  {
   "cell_type": "code",
   "execution_count": null,
   "metadata": {
    "execution": {
     "iopub.status.busy": "2024-08-18T03:28:41.709043Z",
     "iopub.status.idle": "2024-08-18T03:28:41.709566Z",
     "shell.execute_reply": "2024-08-18T03:28:41.709332Z",
     "shell.execute_reply.started": "2024-08-18T03:28:41.709305Z"
    }
   },
   "outputs": [],
   "source": [
    "\"\"\"\n",
    "Tunning\n",
    "\"\"\""
   ]
  },
  {
   "cell_type": "code",
   "execution_count": null,
   "metadata": {},
   "outputs": [],
   "source": []
  },
  {
   "cell_type": "code",
   "execution_count": null,
   "metadata": {},
   "outputs": [],
   "source": []
  },
  {
   "cell_type": "code",
   "execution_count": null,
   "metadata": {},
   "outputs": [],
   "source": []
  },
  {
   "cell_type": "markdown",
   "metadata": {},
   "source": [
    "# 5. Evaluation \n",
    "1. residual analysis <br>\n",
    "2. linear assumption <br>\n",
    "3. assessing fit <br>\n",
    "4. interaction among covariates <br>"
   ]
  },
  {
   "cell_type": "code",
   "execution_count": null,
   "metadata": {},
   "outputs": [],
   "source": []
  },
  {
   "cell_type": "code",
   "execution_count": null,
   "metadata": {},
   "outputs": [],
   "source": []
  },
  {
   "cell_type": "code",
   "execution_count": null,
   "metadata": {},
   "outputs": [],
   "source": []
  },
  {
   "cell_type": "markdown",
   "metadata": {},
   "source": [
    "# 6 Calibration"
   ]
  },
  {
   "cell_type": "code",
   "execution_count": null,
   "metadata": {},
   "outputs": [],
   "source": []
  },
  {
   "cell_type": "code",
   "execution_count": null,
   "metadata": {},
   "outputs": [],
   "source": []
  },
  {
   "cell_type": "code",
   "execution_count": null,
   "metadata": {},
   "outputs": [],
   "source": []
  },
  {
   "cell_type": "markdown",
   "metadata": {},
   "source": [
    "# 7. Model interpretation"
   ]
  },
  {
   "cell_type": "code",
   "execution_count": null,
   "metadata": {},
   "outputs": [],
   "source": []
  },
  {
   "cell_type": "code",
   "execution_count": null,
   "metadata": {},
   "outputs": [],
   "source": []
  },
  {
   "cell_type": "code",
   "execution_count": null,
   "metadata": {},
   "outputs": [],
   "source": []
  },
  {
   "cell_type": "code",
   "execution_count": null,
   "metadata": {},
   "outputs": [],
   "source": []
  },
  {
   "cell_type": "code",
   "execution_count": null,
   "metadata": {},
   "outputs": [],
   "source": []
  },
  {
   "cell_type": "code",
   "execution_count": null,
   "metadata": {},
   "outputs": [],
   "source": []
  }
 ],
 "metadata": {
  "kaggle": {
   "accelerator": "none",
   "dataSources": [
    {
     "databundleVersionId": 860599,
     "sourceId": 9120,
     "sourceType": "competition"
    },
    {
     "datasetId": 5524259,
     "sourceId": 9198047,
     "sourceType": "datasetVersion"
    }
   ],
   "dockerImageVersionId": 30635,
   "isGpuEnabled": false,
   "isInternetEnabled": true,
   "language": "python",
   "sourceType": "notebook"
  },
  "kernelspec": {
   "display_name": "model_dev_py311",
   "language": "python",
   "name": "model_dev_py311"
  },
  "language_info": {
   "codemirror_mode": {
    "name": "ipython",
    "version": 3
   },
   "file_extension": ".py",
   "mimetype": "text/x-python",
   "name": "python",
   "nbconvert_exporter": "python",
   "pygments_lexer": "ipython3",
   "version": "3.11.7"
  }
 },
 "nbformat": 4,
 "nbformat_minor": 4
}
